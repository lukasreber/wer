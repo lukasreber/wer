{
 "cells": [
  {
   "cell_type": "markdown",
   "source": [
    "<h1>Wahrscheinlichkeitsrechnen (wer)</h1>\n",
    "<h2>BSc Data Science @ FHNW Brugg</h2>\n",
    "<h2>Lukas Reber</h2>\n",
    "\n",
    "<h2>Serie 2</h2>"
   ],
   "metadata": {}
  },
  {
   "cell_type": "markdown",
   "source": [
    "# Begrifflichkeiten\n",
    "\n",
    "- Wahrscheinlichkeit: Die Wahrscheinlichkeit eines Ereignisses ist ein Mass für die relative Häufigkeit mit der das Ereignis bei wiederholten Durchführungen des Experimentes eintritt.\n",
    "- Laplace-Experiment: Gleichverteilung der Wahrscheinlichkeit. Für alle Ergebnisse eines Zufallsexperiments wird dieselbe Wahrscheinlichkeit angenommen.\n",
    "$$ p(A)=\\frac{Anzahl~Elemente~von~A}{Anzahl~Element~von~\\Omega}=\\frac{|A|}{|\\Omega|}$$\n",
    "\n",
    "## Kombinatorik\n",
    "\n",
    "| Name | Beispiel | Reihenfolge | Wiederholung | Formel | Excel |\n",
    "|------|----------|-------------|--------------|--------|-------|\n",
    "| Variation mit Wiederholung | Zahlenschloss mit 4 Ziffern | Ja | Ja | $n^k$ (n = Anzahl Mgölichkeiten, k = Anzahl Durchführungen) |\n",
    "| Permutation ohne Wiederholung | 10 Bücher unterschiedlich anordnen | Ja | Nein | $n*(n-1)*(n-2)*... = n!$ | Fakultät(...) |\n",
    "| Variation ohne Wiederholung (mit gleichen Elementen) | 100 Sitze für 16 Personen | Ja | Nein | $\\frac{n!}{n1!*n2...} = \\frac{n!}{(n-k)!}$ (n ist die Anzahl Sitze, k die Anzahl Personen) | Variationen(n,k)\n",
    "| Kombination ohne Wiederholung | Selektion von 10 Läufern für Olympia Teilnahme | Nein | Nein | $\\frac{n*(n-1)*(n-2)*...*(n-k+1)}{k!}=\\binom{n}{k}$ (Aus n Möglichkeiten, k Elemente wählen) | Kombinationen(n;k)\n",
    "\n"
   ],
   "metadata": {}
  },
  {
   "cell_type": "markdown",
   "source": [
    "## Aufgabe 1\n",
    "\n",
    "Die Ergebnismenge $\\Omega$ bei zwei Würfeln beinhaltet total 36 Möglichkeiten. \n",
    "\n",
    "a) Es gibt 16 mögliche Kombinationen $|A| = \\{(1,2),(1,3),(1,4),(1,5),(1,6),(2,4),(2,6),(3,6)\\}$, sowie die jeweils umgekehrten Paare. Somit ergibt sich eine Wahrscheinlichkeit von 44.4%\n",
    "\n",
    "b) Es gibt 8 mögliche Kombinationen $|A| = \\{(1,3),(2,4),(3,5),(4,6),(3,1),(4,2),(5,3),(6,4)\\}$. Die Wahrscheinlichkeit liegt somit bei 22.2%\n",
    "\n",
    "c) Es gibt 20 mögliche Kombinationen $|A| = \\{(1,3),(1,4),(1,5),(1,6),(2,4),(2,5),(2,6),(3,5),(3,6),(4,6)\\}$, sowie die umgekehrten Paare. Die Wahrscheinlichkeit liegt somit bei 55.5%\n",
    "\n",
    "d) Es gibt 4 möghliche Kombinationen $|A| = \\{(2,4),(3,6),(4,2),(6,3)\\}$. Die Wahrscheinlichkeit liegt somit bei 4/36 = 11.1%"
   ],
   "metadata": {}
  },
  {
   "cell_type": "markdown",
   "source": [
    "## Aufgabe 2\n",
    "\n",
    "a) 1000/2500 = 0.4\n",
    "\n",
    "b) Für alle Zahlen zwischen 0 - 999 abzudecken: Es gibt die folgenden Möglichkeiten 10 * 10 * 1 = 100, somit sind es für Zahlen bis 2500, 250 Möglichkeiten, und somit eine Wahrscheinlichkeit von 10%"
   ],
   "metadata": {}
  },
  {
   "cell_type": "markdown",
   "source": [
    "## Aufgabe 3\n",
    "\n",
    "a) 50%\n",
    "\n",
    "b) geordnete Reihe: 52, 54, 58, 60, 60, 61. Median ist somit 59"
   ],
   "metadata": {}
  },
  {
   "cell_type": "markdown",
   "source": [
    "## Aufgabe 4\n",
    "\n",
    "Ergebnisraum $\\Omega = \\{0,1\\}$ \n",
    "\n",
    "a) 0.5\n",
    "\n",
    "b) 0.0625\n",
    "\n",
    "c) 0.25\n",
    "\n",
    "d) 0.125\n",
    "\n"
   ],
   "metadata": {}
  },
  {
   "cell_type": "markdown",
   "source": [
    "## Aufgabe 5\n",
    "\n",
    "a) $\\Omega=\\{A,B\\}$, $\\{(A,A),(A,B,A),(B,A,A),(B,B),(B,A,B),(A,B,B)\\}$\n",
    "\n",
    "b) 3/6 = 0.5\n",
    "\n",
    "c) 4/6 =0.667"
   ],
   "metadata": {}
  },
  {
   "cell_type": "markdown",
   "source": [
    "## Aufgabe 6\n",
    "\n",
    "??"
   ],
   "metadata": {}
  }
 ],
 "metadata": {
  "orig_nbformat": 4,
  "language_info": {
   "name": "python",
   "version": "3.9.7",
   "mimetype": "text/x-python",
   "codemirror_mode": {
    "name": "ipython",
    "version": 3
   },
   "pygments_lexer": "ipython3",
   "nbconvert_exporter": "python",
   "file_extension": ".py"
  },
  "kernelspec": {
   "name": "python3",
   "display_name": "Python 3.9.7 64-bit"
  },
  "interpreter": {
   "hash": "aee8b7b246df8f9039afb4144a1f6fd8d2ca17a180786b69acc140d282b71a49"
  }
 },
 "nbformat": 4,
 "nbformat_minor": 2
}