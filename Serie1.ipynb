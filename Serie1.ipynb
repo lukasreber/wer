{
 "cells": [
  {
   "cell_type": "markdown",
   "source": [
    "<h1>Wahrscheinlichkeitsrechnen (wer)</h1>\n",
    "<h2>BSc Data Science @ FHNW Brugg</h2>\n",
    "<h2>Lukas Reber</h2>"
   ],
   "metadata": {}
  },
  {
   "cell_type": "markdown",
   "source": [
    "# Aufgabe 1\n",
    "\n",
    "<ol type=\"a\">\n",
    "    <li>quantitativ stetig</li>\n",
    "    <li>quantitativ kategorisch</li>\n",
    "    <li>qualitativ</li>\n",
    "    <li>quantitativ stetig</li>\n",
    "    <li>quantitativ stetig</li>\n",
    "    <li>qualitativ</li>\n",
    "\n",
    "</ol>\n"
   ],
   "metadata": {}
  },
  {
   "cell_type": "markdown",
   "source": [
    "# Aufgabe 2\n"
   ],
   "metadata": {}
  },
  {
   "cell_type": "code",
   "execution_count": 54,
   "source": [
    "import matplotlib.pyplot as plt\n",
    "\n",
    "l = [6,8,3,10,1,12,3,12,7,5,10,9,6,6,11,7,6,10,9,7]\n",
    "\n",
    "dict = {}\n",
    "[dict.update({x: l.count(x)}) for x in list(set(l))]\n",
    "\n",
    "plt.bar(dict.keys(),dict.values())"
   ],
   "outputs": [
    {
     "output_type": "execute_result",
     "data": {
      "text/plain": [
       "<BarContainer object of 10 artists>"
      ]
     },
     "metadata": {},
     "execution_count": 54
    },
    {
     "output_type": "display_data",
     "data": {
      "image/png": "[encoded data removed]",
      "text/plain": [
       "<Figure size 432x288 with 1 Axes>"
      ]
     },
     "metadata": {
      "needs_background": "light"
     }
    }
   ],
   "metadata": {}
  },
  {
   "cell_type": "code",
   "execution_count": 72,
   "source": [
    "# Summenhäufigkeit berechnen\n",
    "sh = {k:v/len(l) for (k,v) in dict.items()}\n",
    "\n",
    "plt.bar(sh.keys(),sh.values())"
   ],
   "outputs": [
    {
     "output_type": "execute_result",
     "data": {
      "text/plain": [
       "<BarContainer object of 10 artists>"
      ]
     },
     "metadata": {},
     "execution_count": 72
    },
    {
     "output_type": "display_data",
     "data": {
      "image/png": "[encoded data removed]",
      "text/plain": [
       "<Figure size 432x288 with 1 Axes>"
      ]
     },
     "metadata": {
      "needs_background": "light"
     }
    }
   ],
   "metadata": {}
  },
  {
   "cell_type": "markdown",
   "source": [
    "# Aufgabe 3"
   ],
   "metadata": {}
  },
  {
   "cell_type": "code",
   "execution_count": 73,
   "source": [
    "x = [182.0, 176.0, 191.0, 173.5, 183.0, 178.0, 179.0, 174.0, 184.5, 174.0, 180.5, 174.5, 178.5, 169.0, 178.5, 168.5, 179.0, 177.0, 172.5, 171.0, 176.5, 167.0, 175.0, 175.0]"
   ],
   "outputs": [],
   "metadata": {}
  },
  {
   "cell_type": "code",
   "execution_count": 83,
   "source": [
    "# a)\n",
    "plt.hist(x, bins=12, range=(166.25,191))\n",
    "plt.show()"
   ],
   "outputs": [
    {
     "output_type": "display_data",
     "data": {
      "image/png": "[encoded data removed]",
      "text/plain": [
       "<Figure size 432x288 with 1 Axes>"
      ]
     },
     "metadata": {
      "needs_background": "light"
     }
    }
   ],
   "metadata": {}
  },
  {
   "cell_type": "markdown",
   "source": [
    "<ol type='a'>\n",
    "    <li>Spannweite ist 191-167 = 24, mit binsize 12 ist jeder Bin 2 cm.</li>\n",
    "    <li>??</li>\n",
    "    <li>Frage: Was ist die Ordinale?</li>\n"
   ],
   "metadata": {}
  },
  {
   "cell_type": "code",
   "execution_count": 84,
   "source": [
    "# c)\n",
    "plt.hist(x, bins=6, range=(164.25,191))\n",
    "plt.show()"
   ],
   "outputs": [
    {
     "output_type": "display_data",
     "data": {
      "image/png": "[encoded data removed]",
      "text/plain": [
       "<Figure size 432x288 with 1 Axes>"
      ]
     },
     "metadata": {
      "needs_background": "light"
     }
    }
   ],
   "metadata": {}
  },
  {
   "cell_type": "markdown",
   "source": [
    "# Aufgabe 4\n",
    "\n",
    "Grundsätzlich sollten alle Bins dieselbe Grösse haben\n",
    "Zu wenig Klassen: Ungewöhnliche Verteilung wird ggf. nicht erkannt\n",
    "Zu viele Klassen: ggf. sehr viel \"Noise\", welches die wichtigen Faktoren nicht mehr erkennen lassen\n",
    "\n",
    "Verschiedene Formeln für die Berechnung der Anzahl Bins und Bin Size:\n",
    "https://answerminer.com/static/e9ebb1ee2256c796bb1f9ea05af152d1/9e74b/histogram.png"
   ],
   "metadata": {}
  },
  {
   "cell_type": "markdown",
   "source": [
    "# Aufgabe 5\n"
   ],
   "metadata": {}
  },
  {
   "cell_type": "code",
   "execution_count": 109,
   "source": [
    "import numpy as np\n",
    "x = np.array([12.1, 12.2, 12.0, 12.3, 12.3, 12.4, 12.1, 12.4, 12.0, 12.1])\n",
    "x.mean()\n",
    "\n",
    "print(f'Fehlender Wert: {x[-1]}')"
   ],
   "outputs": [
    {
     "output_type": "stream",
     "name": "stdout",
     "text": [
      "Fehlender Wert: 12.1\n"
     ]
    }
   ],
   "metadata": {}
  },
  {
   "cell_type": "code",
   "execution_count": 107,
   "source": [
    "x.std()"
   ],
   "outputs": [
    {
     "output_type": "execute_result",
     "data": {
      "text/plain": [
       "0.14456832294800986"
      ]
     },
     "metadata": {},
     "execution_count": 107
    }
   ],
   "metadata": {}
  },
  {
   "cell_type": "code",
   "execution_count": 108,
   "source": [
    "np.median(x)"
   ],
   "outputs": [
    {
     "output_type": "execute_result",
     "data": {
      "text/plain": [
       "12.149999999999999"
      ]
     },
     "metadata": {},
     "execution_count": 108
    }
   ],
   "metadata": {}
  },
  {
   "cell_type": "markdown",
   "source": [
    "# Aufgabe 6"
   ],
   "metadata": {}
  },
  {
   "cell_type": "code",
   "execution_count": 110,
   "source": [
    "x = np.array([2.5, 1.8, 3.0, 2.2, 2.9, 1.9, 2.3, 2.6])\n",
    "print (f'arithmetisches Mitte: {x.mean()}, Median: {np.median(x)}')"
   ],
   "outputs": [],
   "metadata": {}
  },
  {
   "cell_type": "markdown",
   "source": [
    "# Aufgabe 7"
   ],
   "metadata": {}
  },
  {
   "cell_type": "code",
   "execution_count": 115,
   "source": [
    "x = np.array([9,9,9,9,9,10,11,12,13])\n",
    "print (f'arithmetisches Mitte: {x.mean()}, Median: {np.median(x)}, Std: {x.std()}')"
   ],
   "outputs": [
    {
     "output_type": "stream",
     "name": "stdout",
     "text": [
      "arithmetisches Mitte: 10.11111111111111, Median: 9.0, Std: 1.4487116456005886\n"
     ]
    }
   ],
   "metadata": {}
  },
  {
   "cell_type": "markdown",
   "source": [
    "# Aufgabe 8"
   ],
   "metadata": {}
  },
  {
   "cell_type": "code",
   "execution_count": 142,
   "source": [
    "x = np.array(l)\n",
    "print(f'Durchschnitt: {x.mean()}')\n",
    "print(f'Median: {np.median(x)}')\n",
    "print(f'Modus: {x[np.argmax(np.unique(x, return_counts=1)[1])]}')\n",
    "p25,p75 = np.percentile(x,[25,75])\n",
    "print(f'IQR: {p75-p25}')\n",
    "print(f'Empirische Varianz: {x.var()}')\n",
    "print(f'Empirische Standardabweichung: {x.std()}')\n",
    "print(f'Spannweite: {x.max()-x.min()}')\n"
   ],
   "outputs": [
    {
     "output_type": "stream",
     "name": "stdout",
     "text": [
      "Durchschnitt: 7.4\n",
      "Median: 7.0\n",
      "Modus: 10\n",
      "IQR: 4.0\n",
      "Empirische Varianz: 8.74\n",
      "Empirische Standardabweichung: 2.9563490998188966\n",
      "Spannweite: 11\n"
     ]
    }
   ],
   "metadata": {}
  },
  {
   "cell_type": "markdown",
   "source": [
    "# Aufgabe 9\n",
    "\n",
    "Antwort: 23 oder 25"
   ],
   "metadata": {}
  },
  {
   "cell_type": "markdown",
   "source": [
    "# Aufgabe 10"
   ],
   "metadata": {}
  },
  {
   "cell_type": "code",
   "execution_count": 149,
   "source": [
    "fam = {\n",
    "    0: 120,\n",
    "    1: 200,\n",
    "    2: 220,\n",
    "    3: 150,\n",
    "    4: 40,\n",
    "    5: 6,\n",
    "    8: 1\n",
    "}\n",
    "\n",
    "plt.bar(fam.keys(),fam.values())\n",
    "plt.xlabel(\"Anzahl Kinder\")\n",
    "plt.ylabel(\"Anzahl Familien\")\n",
    "plt.title(\"Kinderanzahl von Familien\")\n",
    "plt.show()"
   ],
   "outputs": [
    {
     "output_type": "display_data",
     "data": {
      "image/png": "[encoded data removed]",
      "text/plain": [
       "<Figure size 432x288 with 1 Axes>"
      ]
     },
     "metadata": {
      "needs_background": "light"
     }
    }
   ],
   "metadata": {}
  },
  {
   "cell_type": "code",
   "execution_count": 161,
   "source": [
    "fam_arr = np.array(list(fam.values()))\n",
    "\n",
    "print(f'Durchschnitt: {fam_arr.mean()}')\n",
    "print(f'Median: {np.median(fam_arr)}')\n",
    "print(f'Varianz: {np.var(fam_arr)}')"
   ],
   "outputs": [
    {
     "output_type": "stream",
     "name": "stdout",
     "text": [
      "Durchschnitt: 105.28571428571429\n",
      "Median: 120.0\n",
      "Varianz: 7048.775510204082\n"
     ]
    }
   ],
   "metadata": {}
  },
  {
   "cell_type": "markdown",
   "source": [
    "# Aufgabe 11\n",
    "\n",
    "Arithmetisches Mittel: n/m+n\n",
    "\n",
    "Standardabweichung: ?"
   ],
   "metadata": {}
  }
 ],
 "metadata": {
  "orig_nbformat": 4,
  "language_info": {
   "name": "python",
   "version": "3.8.3",
   "mimetype": "text/x-python",
   "codemirror_mode": {
    "name": "ipython",
    "version": 3
   },
   "pygments_lexer": "ipython3",
   "nbconvert_exporter": "python",
   "file_extension": ".py"
  },
  "kernelspec": {
   "name": "python3",
   "display_name": "Python 3.8.3 64-bit"
  },
  "interpreter": {
   "hash": "aee8b7b246df8f9039afb4144a1f6fd8d2ca17a180786b69acc140d282b71a49"
  }
 },
 "nbformat": 4,
 "nbformat_minor": 2
}