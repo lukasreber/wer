{
 "cells": [
  {
   "cell_type": "code",
   "execution_count": 2,
   "metadata": {},
   "outputs": [],
   "source": [
    "import numpy as np"
   ]
  },
  {
   "cell_type": "markdown",
   "metadata": {},
   "source": [
    "### 1. a)\n",
    "\n",
    "1 : 1-1, 2-1, 3-2, 4-3, 5-4, 6-5, 1-2, 2-3, 3-4, 4-5, 5-6 --> Total 11 Optionen\n",
    "\n",
    "2: 2-2, 3-1, 4-1..... --> Total 9 Optionen\n",
    "\n",
    "3: Total 7 Optionen\n",
    "\n",
    "4: Total 5 Optionen\n",
    "\n",
    "5: Total 3 Optionen\n",
    "\n",
    "6: total 1 Option\n",
    "\n",
    "Gesamthaft 36 Kombinationen\n",
    "\n",
    "\n",
    "| 1 | 2 | 3 | 4 | 5 | 6 |\n",
    "|---|---|---|---|---|---|\n",
    "| 11/36 | 9/36 | 7/36 | 5/36 | 3/36 | 1/36 |\n"
   ]
  },
  {
   "cell_type": "markdown",
   "metadata": {},
   "source": [
    "### 1. b)\n",
    "\n",
    "11/36 + 9/36 + 7/36 = 27/36\n"
   ]
  },
  {
   "cell_type": "code",
   "execution_count": 2,
   "metadata": {},
   "outputs": [
    {
     "data": {
      "text/plain": [
       "2.5277777777777777"
      ]
     },
     "execution_count": 2,
     "metadata": {},
     "output_type": "execute_result"
    }
   ],
   "source": [
    "# 1. c)\n",
    "\n",
    "1 * 11/36 + 2*9/36 + 3*7/36 + 4*5/36 + 5*3/36 + 6*1/36"
   ]
  },
  {
   "cell_type": "markdown",
   "metadata": {},
   "source": [
    "### 2. a)\n",
    "\n",
    "Omega = {(KK),(KZK),(ZZ),(ZKZ),(KZZ),(ZKK)}"
   ]
  },
  {
   "cell_type": "markdown",
   "metadata": {},
   "source": [
    "### 2. b)\n",
    "\n",
    "Werte für X: 2,3"
   ]
  },
  {
   "cell_type": "markdown",
   "metadata": {},
   "source": [
    "### 2. c)\n",
    "\n",
    "| 2 | 3 |\n",
    "|---|---|\n",
    "| 2/6 | 4/6 |"
   ]
  },
  {
   "cell_type": "markdown",
   "metadata": {},
   "source": [
    "### 2. d)\n",
    "\n",
    "Omega hat 8 Elemente"
   ]
  },
  {
   "cell_type": "code",
   "execution_count": 3,
   "metadata": {},
   "outputs": [],
   "source": [
    "# 3 a)\n",
    "\n",
    "# Skizze"
   ]
  },
  {
   "cell_type": "code",
   "execution_count": 9,
   "metadata": {},
   "outputs": [
    {
     "name": "stdout",
     "output_type": "stream",
     "text": [
      "Erwartungswert: 1.7000000000000002\n",
      "Varianz: 15.81\n",
      "Standardabweichung: 3.976179070414209\n"
     ]
    }
   ],
   "source": [
    "# 3 b)\n",
    "\n",
    "E = -4 * 0.1 + -2 * 0.2 + 0 * 0.3 + 4 * 0.1 + 7 * 0.3\n",
    "print(f'Erwartungswert: {E}')\n",
    "\n",
    "X = np.array([-4,-2,0,4,7])\n",
    "p = np.array([0.1,0.2,0.3,0.1,0.3])\n",
    "\n",
    "V = sum((X-E)**2 * p)\n",
    "print(f'Varianz: {V}')\n",
    "\n",
    "std = V**0.5\n",
    "print(f'Standardabweichung: {std}')"
   ]
  },
  {
   "cell_type": "code",
   "execution_count": 11,
   "metadata": {},
   "outputs": [
    {
     "data": {
      "text/plain": [
       "4.083333333333333"
      ]
     },
     "execution_count": 11,
     "metadata": {},
     "output_type": "execute_result"
    }
   ],
   "source": [
    "# 4.\n",
    "X = np.array([1,2,3,4,5,7,8,9,10,11,12])\n",
    "p = np.array([1/6,1/6,1/6,1/6,1/6,1/36,1/36,1/36,1/36,1/36,1/36])\n",
    "\n",
    "sum(X*p)"
   ]
  },
  {
   "cell_type": "code",
   "execution_count": 20,
   "metadata": {},
   "outputs": [
    {
     "data": {
      "text/plain": [
       "-0.84716796875"
      ]
     },
     "execution_count": 20,
     "metadata": {},
     "output_type": "execute_result"
    }
   ],
   "source": [
    "# 5.\n",
    "\n",
    "# Geometrische Verteilung\n",
    "def f(x,p):\n",
    "    return (1-p)**(x-1)*p\n",
    "\n",
    "f(2,0.25)\n",
    "\n",
    "p = np.array([f(i,0.25) for i in range(1,6)])\n",
    "g = np.array([2.5,0,-2.5,-5,-7.5])\n",
    "\n",
    "sum(p*g) "
   ]
  },
  {
   "cell_type": "code",
   "execution_count": 13,
   "metadata": {},
   "outputs": [],
   "source": [
    "from scipy.stats import geom"
   ]
  },
  {
   "cell_type": "code",
   "execution_count": 15,
   "metadata": {},
   "outputs": [
    {
     "data": {
      "text/plain": [
       "0.1875"
      ]
     },
     "execution_count": 15,
     "metadata": {},
     "output_type": "execute_result"
    }
   ],
   "source": [
    "geom.pmf(2,0.25)"
   ]
  },
  {
   "cell_type": "code",
   "execution_count": 8,
   "metadata": {},
   "outputs": [
    {
     "name": "stdout",
     "output_type": "stream",
     "text": [
      "11.0 17.0 15.0 9.000000000000002\n"
     ]
    }
   ],
   "source": [
    "# 6.\n",
    "\n",
    "X = np.array([0,1,2,3,4])\n",
    "p = np.array([0.05,0.25,0.4,0.2,0.1])\n",
    "\n",
    "# Gewinn bei 1 hergestellter Torte\n",
    "g1 = np.array([-8,12,12,12,12])\n",
    "# Gewinn bei 2 hergestellten Torten\n",
    "g2 = np.array([-16,4,24,24,24])\n",
    "# Gewinn bei 2 hergestellten Torten\n",
    "g3 = np.array([-24,-4,16,36,36])\n",
    "# Gewinn bei 4 hergestellten Torten\n",
    "g4 = np.array([-32,-12,8,28,48])\n",
    "\n",
    "\n",
    "e1 = sum(g1*p)\n",
    "e2 = sum(g2*p)\n",
    "e3 = sum(g3*p)\n",
    "e4 = sum(g4*p)\n",
    "\n",
    "print(e1,e2,e3,e4)"
   ]
  }
 ],
 "metadata": {
  "interpreter": {
   "hash": "752579dbebe7f4dfe7c1aa72eac13e23fc88be2cc1ea7ab14e1f8d69b2d97d12"
  },
  "kernelspec": {
   "display_name": "Python 3.8.3 64-bit",
   "language": "python",
   "name": "python3"
  },
  "language_info": {
   "codemirror_mode": {
    "name": "ipython",
    "version": 3
   },
   "file_extension": ".py",
   "mimetype": "text/x-python",
   "name": "python",
   "nbconvert_exporter": "python",
   "pygments_lexer": "ipython3",
   "version": "3.8.3"
  },
  "orig_nbformat": 4
 },
 "nbformat": 4,
 "nbformat_minor": 2
}
