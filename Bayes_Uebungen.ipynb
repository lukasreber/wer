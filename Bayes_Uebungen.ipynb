{
 "cells": [
  {
   "cell_type": "markdown",
   "metadata": {},
   "source": [
    "Übungen zum Satz von Bayes.\n",
    "\n",
    "Quelle: «K. Bosch, 2011, «Elementare Einführung in die Wahrscheinlichkeitsrechnung», 11. Auflage, Vieweg und Teuber Verlag | Springerfachmedien GmbH, Wiesbaden."
   ]
  },
  {
   "cell_type": "code",
   "execution_count": 3,
   "metadata": {},
   "outputs": [
    {
     "name": "stdout",
     "output_type": "stream",
     "text": [
      "P(V) = 0.14500000000000002\n",
      "P(A1|V) = 0.689655172413793\n"
     ]
    }
   ],
   "source": [
    "# 33\n",
    "\n",
    "P_A1 = 0.5\n",
    "P_A2 = 0.4\n",
    "P_L = 0.1\n",
    "P_V_A1 = 0.2\n",
    "P_V_A2 = 0.1\n",
    "P_V_L = 0.05\n",
    "\n",
    "# a)\n",
    "P_V = P_A1*P_V_A1 + P_A2*P_V_A2 + P_L*P_V_L\n",
    "print(f'P(V) = {P_V}')\n",
    "\n",
    "# b)\n",
    "P_A1_V = (P_V_A1 * P_A1)/P_V\n",
    "print(f'P(A1|V) = {P_A1_V}')\n"
   ]
  },
  {
   "cell_type": "markdown",
   "metadata": {},
   "source": [
    "Nr. 34\n",
    "\n",
    "$P(U_1)=0.5$\n",
    "\n",
    "$P(U_2)=0.5$\n",
    "\n",
    "$P(W|U_1) = 0.4$\n",
    "\n",
    "$P(R|U_1) = 0.6$\n",
    "\n",
    "$P(W|U_2) = \\frac{6}{6+x}$\n",
    "\n",
    "$P(R|U_2) = \\frac{x}{6+x}$\n",
    "\n",
    "a)\n",
    "\n",
    "$P(R) = P(U_1)*P(R|U_1)+P(U_2)*P(R|U_2) = 0.5*0.6+0.5*\\frac{x}{6+x}=0.3+\\frac{x}{12+2x}$\n",
    "\n",
    "b) \n",
    "\n",
    "$P(U_1|R) = \\frac{P(R|U_1)*P(U_1)}{P(R)} = \\frac{0.6*0.5}{0.3+\\frac{x}{12+2x}} = \\frac{0.3}{0.3+\\frac{x}{12+2x}}$\n",
    "\n",
    "\n",
    "\n",
    "\n",
    "\n",
    "\n",
    "\n"
   ]
  },
  {
   "cell_type": "markdown",
   "metadata": {},
   "source": [
    "Nr. 35\n",
    "\n",
    "$P(F) = 0.6$\n",
    "\n",
    "$P(M) = 0.4$\n",
    "\n",
    "$P(Z|F) = 0.01$\n",
    "\n",
    "$P(Z|M) = 0.05$\n",
    "\n",
    "a)\n",
    "\n",
    "$P(Z) = P(F)*P(Z|F)+P(M)*P(Z|M) = 0.6*0.01+0.4*0.05 = 0.026$\n",
    "\n",
    "b)\n",
    "\n",
    "$P(Z) \\neq P(Z|F) $ somit sind Z und F stoch. unabhängig\n",
    "\n",
    "c)\n",
    "\n",
    "$P(M|Z) = \\frac{P(Z|M) * P(M)}{P(Z)} = 0.769$\n",
    "\n",
    "$P(F|Z) = 1-P(M|Z) = 0.2308$\n"
   ]
  }
 ],
 "metadata": {
  "interpreter": {
   "hash": "752579dbebe7f4dfe7c1aa72eac13e23fc88be2cc1ea7ab14e1f8d69b2d97d12"
  },
  "kernelspec": {
   "display_name": "Python 3.8.3 64-bit",
   "language": "python",
   "name": "python3"
  },
  "language_info": {
   "codemirror_mode": {
    "name": "ipython",
    "version": 3
   },
   "file_extension": ".py",
   "mimetype": "text/x-python",
   "name": "python",
   "nbconvert_exporter": "python",
   "pygments_lexer": "ipython3",
   "version": "3.8.3"
  },
  "orig_nbformat": 4
 },
 "nbformat": 4,
 "nbformat_minor": 2
}
