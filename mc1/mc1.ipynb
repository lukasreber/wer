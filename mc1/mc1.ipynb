{
 "cells": [
  {
   "cell_type": "markdown",
   "metadata": {},
   "source": [
    "# Wahrscheinlichkeitsrechnen (wer)\n",
    "**BSc Data Science @ FHNW Brugg**\n",
    "\n",
    "**Lukas Reber**\n",
    "\n",
    "**Mini Challenge 1**"
   ]
  },
  {
   "cell_type": "markdown",
   "metadata": {},
   "source": [
    "## Sub-Challenge 1: Viva Las Vegas\n",
    "\n",
    "1) $\\Omega=\\{(Kopf,grün),(Kopf,blau),(Kopf,rot),(Zahl,grün),(Zahl,blau),(Zahl,rot)\\}$\n",
    "   \n",
    "2) $A=\\frac{1}{2}*\\frac{3}{10}=\\frac{3}{20}=0.15$\n",
    "\n",
    "3) $B=\\frac{1}{2}*\\frac{7}{10}=\\frac{7}{20}=0.35$\n",
    "\n",
    "    Schliessen sich die Ereignisse A und B gegenseitig aus? Ja, da es sich um unterschiedliche Teilmengen von $\\Omega$ handelt.\n",
    "\n",
    "4) $C=\\frac{1}{2}*\\frac{6}{10}=\\frac{6}{20}=0.3$\n",
    "\n",
    "    Schliessen sich die Ereignisse A und B gegenseitig aus? Nein, z.B das Resultat (Zahl, blaue Karte) kann sowohl in Ergebnis A und B vorkommen.\n"
   ]
  },
  {
   "cell_type": "markdown",
   "metadata": {},
   "source": [
    "## Sub-Challenge 2: Kartenspiel\n",
    "\n",
    "1. $\\Omega = {(grün, 1),(grün, 2),(grün, 3),(grün, 4),(grün, 5),(gelb, 1),(gelb, 2),(gelb, 2),}$\n",
    "2. 5 / 3 = 1.6\n",
    "3. 2 / 3 = 0.67\n",
    "4. 2 / 8 = 0.25\n",
    "5. 6 / 8 = 0.75\n",
    "6. Nein\n",
    "7. Nein, durch das Ereignis verändert sich die Wahrscheinlichkeit des darauffolgenden Ereignisses\n",
    "   "
   ]
  },
  {
   "cell_type": "markdown",
   "metadata": {},
   "source": [
    "## Sub-Challenge 3: Roulette\n",
    "\n",
    "a. 1 / 37\n",
    "\n",
    "b. 3 / 37\n",
    "\n",
    "c. 18 / 37\n",
    "\n",
    "d. 12 / 37\n",
    "\n",
    "e. 12 / 37\n",
    "\n",
    "f. 18 / 37\n",
    "\n",
    "1. Bei Verdoppelung von 3.- können mit 450.- maximal 7 Durchgänge verloren werden. Dadurch ergibt sich: $(\\frac{18}{37})^7$ = 0.64%\n",
    "2. $(\\frac{18}{37})^5$ = 2.7%\n",
    "   "
   ]
  },
  {
   "cell_type": "markdown",
   "metadata": {},
   "source": [
    "## Sub-Challenge 4: Münzenwurf\n",
    "\n",
    "1. Wette 1: Anzahl Ergebnisse / Mögliche Ergebnisse = 6.25%, \n",
    "2. Wette 2: Berechnung mit der Binominalverteilung:\n",
    "\n",
    "$$\\binom{n}{k}p^k(1-p)^{n-k}$$\n",
    "\n",
    "* n = Anzahl Beispiele\n",
    "* k = Anzahl Treffer\n",
    "* p = Wahrscheinlichkeit bei einem Treffer\n",
    "\n",
    "Berechnen der Wahrscheinlichkeit bei genau 6,5,4,3,2,1,0 Treffern. Anschliessend 1 minus die berechnete Wahrscheinlichkeit\n",
    "\n",
    "$$\\binom{20}{6}0.5^6(1-0.5)^{20-6}$$"
   ]
  },
  {
   "cell_type": "code",
   "execution_count": 1,
   "metadata": {},
   "outputs": [],
   "source": [
    "from scipy.stats import binom"
   ]
  },
  {
   "cell_type": "code",
   "execution_count": 2,
   "metadata": {},
   "outputs": [
    {
     "data": {
      "text/plain": [
       "0.03696441650390614"
      ]
     },
     "execution_count": 2,
     "metadata": {},
     "output_type": "execute_result"
    }
   ],
   "source": [
    "# genau 6 mal\n",
    "binom.pmf(k=6,n=20,p=0.5)"
   ]
  },
  {
   "cell_type": "code",
   "execution_count": 3,
   "metadata": {},
   "outputs": [
    {
     "data": {
      "text/plain": [
       "0.057659149169921854"
      ]
     },
     "execution_count": 3,
     "metadata": {},
     "output_type": "execute_result"
    }
   ],
   "source": [
    "# 6 mal oder weniger\n",
    "binom.cdf(k=6,n=20,p=0.5)"
   ]
  },
  {
   "cell_type": "code",
   "execution_count": 4,
   "metadata": {},
   "outputs": [
    {
     "data": {
      "text/plain": [
       "0.9423408508300781"
      ]
     },
     "execution_count": 4,
     "metadata": {},
     "output_type": "execute_result"
    }
   ],
   "source": [
    "# mindestens 7 mal\n",
    "1 - binom.cdf(k=6,n=20,p=0.5)"
   ]
  },
  {
   "cell_type": "markdown",
   "metadata": {},
   "source": [
    "Resultat für Wette 2: 94.2%"
   ]
  },
  {
   "cell_type": "code",
   "execution_count": null,
   "metadata": {},
   "outputs": [],
   "source": []
  }
 ],
 "metadata": {
  "interpreter": {
   "hash": "752579dbebe7f4dfe7c1aa72eac13e23fc88be2cc1ea7ab14e1f8d69b2d97d12"
  },
  "kernelspec": {
   "display_name": "Python 3.8.3 64-bit",
   "name": "python3"
  },
  "language_info": {
   "codemirror_mode": {
    "name": "ipython",
    "version": 3
   },
   "file_extension": ".py",
   "mimetype": "text/x-python",
   "name": "python",
   "nbconvert_exporter": "python",
   "pygments_lexer": "ipython3",
   "version": "3.8.3"
  },
  "orig_nbformat": 4
 },
 "nbformat": 4,
 "nbformat_minor": 2
}
