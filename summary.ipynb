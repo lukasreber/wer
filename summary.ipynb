{
 "cells": [
  {
   "cell_type": "markdown",
   "metadata": {},
   "source": [
    "# Zusammenfassung wer"
   ]
  },
  {
   "cell_type": "markdown",
   "metadata": {},
   "source": [
    "## LE1 "
   ]
  },
  {
   "cell_type": "markdown",
   "metadata": {},
   "source": [
    "### Zufallsexperimente\n",
    "\n",
    "**Zufallsexperiment**: Ein Versuch mit zufälligem Ausgang\n",
    "\n",
    "**Wahrscheinlichkeitsraum**: Der Wahrscheinlichkeitsraum ist ein mathematisches Modell zur Beschreibung von Zufallsexperimenten. Dieser besteht aus den Komponenten\n",
    "\n",
    "- die Grundgesamtheit/Grundmenge Ω\n",
    "- den Mengen an Ereignissen A\n",
    "- das Wahrscheinlichkeitsmaß P\n",
    "\n",
    "Beispiel: Würfel hat die Grundgesamtheit Ω = {1,2,3,4,5,6}. Ein Eregnisse ist z.B. Würfen einer geraden Zahl, und somit ist die Ereignissmenge A= {2,4,6}. Die Wahrscheinlichkeit daraus ist P(A) = 1/6 + 1/6 + 1/6 = 1/2\n",
    "\n",
    "**Laplace-Raum**: \n"
   ]
  },
  {
   "cell_type": "markdown",
   "metadata": {},
   "source": [
    "### Kombinatorik\n",
    "\n",
    "Permutation: alle Elemente der Grundmenge werden betrachtet\n",
    "\n",
    "Variation / Kombination: eine Stichprobe der Grundmenge wird betrachtet\n",
    "\n",
    "| Name | Beispiel | Reihenfolge | Wiederholung | Formel | Excel |\n",
    "|------|----------|-------------|--------------|--------|-------|\n",
    "| Permutation ohne Wiederholung | 10 Bücher unterschiedlich anordnen | Ja | Nein | $n*(n-1)*(n-2)*... = n!$ | Fakultät(...) |\n",
    "| Permutation mit Wiederholung | 5 Kugel (drei blau, zwei rot) | Ja | Ja | $\\frac{n!}{k_1!*k_2!*...*k_s!}$ (n= Anzahl Elemente, k = Elementgruppen) |  |\n",
    "| Variation ohne Wiederholung | 100 Sitze für 16 Personen | Ja | Nein | $\\frac{n!}{n1!*n2...} = \\frac{n!}{(n-k)!}$ (n ist die Anzahl Sitze, k die Anzahl Personen) | Variationen(n,k)\n",
    "| Variation mit Wiederholung | Zahlenschloss mit 4 Ziffern | Ja | Ja | $n^k$ (n = Anzahl Möglichkeiten, k = Anzahl Durchführungen) |\n",
    "| Kombination ohne Wiederholung | Selektion von 10 Läufern für Olympia Teilnahme | Nein | Nein | $\\frac{n*(n-1)*(n-2)*...*(n-k+1)}{k!}=\\binom{n}{k}$ (Aus n Möglichkeiten, k Elemente wählen) (Dies ist der Binominalkoeffizient) | Kombinationen(n;k)\n",
    "| Kombination mit Wiederholung | Urne mit 5 Kugeln, 3 ziehen und zurücklegen | Nein | Ja | $\\binom{n+k-1}{k}$ (Aus n Möglichkeiten, k Elemente wählen) |\n",
    "\n",
    "\n",
    "![alt text](flowchart.jpg \"Auswahl Kobinatorik\")"
   ]
  },
  {
   "cell_type": "code",
   "execution_count": 1,
   "metadata": {},
   "outputs": [],
   "source": [
    "import math"
   ]
  },
  {
   "cell_type": "markdown",
   "metadata": {},
   "source": [
    "### Permutation ohne Wiederholung\n",
    "\n",
    "**Permutation ohne Wiederholung.**\\\n",
    "Auf wieviele Arten kann man n unterscheidbare Objekte anordnen.\n",
    "$$n!$$"
   ]
  },
  {
   "cell_type": "code",
   "execution_count": 2,
   "metadata": {},
   "outputs": [
    {
     "data": {
      "text/plain": [
       "3628800"
      ]
     },
     "execution_count": 2,
     "metadata": {},
     "output_type": "execute_result"
    }
   ],
   "source": [
    "n = 10\n",
    "math.factorial(n)"
   ]
  },
  {
   "cell_type": "markdown",
   "metadata": {},
   "source": [
    "### Permutation mit Wiederholung\n",
    "\n",
    "Auf wieviele Arten kann man n Objekte anordnen wenn $k_x$ Elemente gleich sind.\n",
    "$$\\cfrac{n!}{k_1! * k_2! * ... * k_x!}$$\n",
    "\n",
    "*Beispiel:* In einer Urne befinden sich drei blaue und zwei rote Kugeln. Wie viele Möglichkeiten gibt es, die Kugeln in einer Reihe anzuordnen?\n",
    "\n",
    "$$\\cfrac{5!}{3! * 2!}$$\n",
    "\n",
    "Es gibt 10 Möglichkeiten drei blaue und zwei rote Kugeln in einer Reihe anzuordnen."
   ]
  },
  {
   "cell_type": "code",
   "execution_count": 3,
   "metadata": {},
   "outputs": [
    {
     "data": {
      "text/plain": [
       "40.0"
      ]
     },
     "execution_count": 3,
     "metadata": {},
     "output_type": "execute_result"
    }
   ],
   "source": [
    "math.factorial(5) / math.factorial(3) * math.factorial(2)\n"
   ]
  },
  {
   "cell_type": "markdown",
   "metadata": {},
   "source": [
    "### Variation ohne Wiederholung\n",
    "\n",
    "Aus n Objekten werden k Objekte ausgewählt, wobei die Reihenfolge beachtet wird. (Jedes Element wird nur einmal ausgewählt)\n",
    "\n",
    "$$\\cfrac{n!}{(n - k)!}$$\n",
    "\n",
    "*Beispiel:* In einer Urne befinden sich fünf verschiedenfarbige Kugeln. Es sollen drei Kugeln unter Beachtung der Reihenfolge und ohne Zurücklegen gezogen werden. Wie viele Möglichkeiten gibt es?\n",
    "\n",
    "$\\cfrac{5!}{(5 - 3)!} = \\cfrac{5!}{2!} = 60$ Es gibt 60 Möglichkeiten 3 aus 5 Kugeln unter Beachtung der Reihenfolge und ohne Zurücklegen zu ziehen."
   ]
  },
  {
   "cell_type": "code",
   "execution_count": 4,
   "metadata": {},
   "outputs": [
    {
     "data": {
      "text/plain": [
       "60.0"
      ]
     },
     "execution_count": 4,
     "metadata": {},
     "output_type": "execute_result"
    }
   ],
   "source": [
    "# Variation ohne Wiederholung\n",
    "n = 5\n",
    "k = 3\n",
    "math.factorial(n) / math.factorial(n-k)"
   ]
  },
  {
   "cell_type": "markdown",
   "metadata": {},
   "source": [
    "### Variation mit Wiederholung\n",
    "\n",
    "Aus n Objekten werden k ausgewählt wobei die Reihenfolge beachtet wird. Die Elemente werden zurückgelegt.\n",
    "\n",
    "$$n * n * n * ... * n = n^k$$\n",
    "\n",
    "*Beispiel:* In einer Urne befinden sich fünf verschiedenfarbige Kugeln. Es sollen drei Kugeln unter Beachtung der Reihenfolge und mit Zurücklegen gezogen werden. Wie viele Möglichkeiten gibt es?\n",
    "\n",
    "$5 * 5 * 5 = 5^3 = 125$ Es gibt 125 Möglichkeiten 3 aus 5 Kugeln unter Beachtung der Reihenfolge und mit Zurücklegen zu ziehen."
   ]
  },
  {
   "cell_type": "code",
   "execution_count": 5,
   "metadata": {},
   "outputs": [
    {
     "name": "stdout",
     "output_type": "stream",
     "text": [
      "125\n"
     ]
    }
   ],
   "source": [
    "n = 5\n",
    "k = 3\n",
    "varmW = (n)**k\n",
    "print(varmW)"
   ]
  },
  {
   "cell_type": "markdown",
   "metadata": {},
   "source": [
    "### Kombination ohne Wiederholung\n",
    "\n",
    "Aus n Objekten werden k ausgewählt ohne die Reihenfolge zu beachten. Jedes Objekt wird nur einmal ausgewählt.\n",
    "\n",
    "$$\\frac{n!}{k!(n-k)!} = \\binom{n}{k}$$\n",
    "\n",
    "*Bespiel* In einer Urne befinden sich fünf verschiedenfarbige Kugeln. Es sollen drei Kugeln ohne Beachtung der Reihenfolge und ohne Zurücklegen gezogen werden. Wie viele Möglichkeiten gibt es?\n",
    "\n",
    "\n",
    "$\\frac{5!}{3!(5-3)!} = \\binom{5}{3} = 10$ Es gibt 10 Möglichkeiten 3 aus 5 Kugeln ohne Beachtung der Reihenfolge und ohne Zurücklegen zu ziehen. \n"
   ]
  },
  {
   "cell_type": "code",
   "execution_count": 6,
   "metadata": {},
   "outputs": [
    {
     "name": "stdout",
     "output_type": "stream",
     "text": [
      "10\n"
     ]
    }
   ],
   "source": [
    "from scipy.special import comb # anzahl kombinationen von n dingen wenn k auf einmal genommen werden\n",
    "n = 5\n",
    "k = 3\n",
    "c = comb(n, k, exact=True) # mit n=anzahl objekten, k=anzahl gezogener elemente\n",
    "print(c)"
   ]
  },
  {
   "cell_type": "markdown",
   "metadata": {},
   "source": [
    "### Kombination mit Wiederholung\n",
    "\n",
    "Aus n Objekten werden k ausgewählt, wobei die Reihenfolge nicht beachtet wird und die Objekte mehrmals ausgewählt werden können.\n",
    "\n",
    "$$\\frac{n + k - 1!}{k!((n + k - 1)-k)!} = \\binom{n + k - 1}{k}$$\n",
    "\n",
    "*Beispiel:* In einer Urne befinden sich fünf verschiedenfarbige Kugeln. Es sollen drei Kugeln ohne Beachtung der Reihenfolge und mit Zurücklegen gezogen werden. Wie viele Möglichkeiten gibt es?\n",
    "\n",
    "$\\frac{5 + 3 - 1!}{3!((5 + 3 - 1)-3)!} = \\binom{5 + 3 - 1}{3} = 35$ Es gibt 35 Möglichkeiten 3 aus 5 Kugeln ohne Beachtung der Reihenfolge und mit Zurücklegen zu ziehen."
   ]
  },
  {
   "cell_type": "code",
   "execution_count": 7,
   "metadata": {},
   "outputs": [
    {
     "name": "stdout",
     "output_type": "stream",
     "text": [
      "35\n"
     ]
    }
   ],
   "source": [
    "n = 5\n",
    "k = 3\n",
    "c = comb(n, k, exact=True, repetition=True) # mit n=anzahl objekten, k=anzahl gezogener elemente\n",
    "print(c)"
   ]
  },
  {
   "cell_type": "markdown",
   "metadata": {},
   "source": [
    "## Der Begriff der Wahrscheinlichkeit\n",
    "\n",
    "Laplace Wahrscheinlichkeit: Zufallsexperimente bei denen alle Ergebnisse diesebe Wahrscheinlichkeit haben.\n",
    "\n",
    "$$ P(A) = \\frac{\"Anzahl der Ergebnisse, bei denen das Ereignis A eintritt\"}{\"Anzahl aller möglichen Ergebnisse\"} = \\frac{A}{\\Omega}$$"
   ]
  },
  {
   "cell_type": "markdown",
   "metadata": {},
   "source": [
    "### Bedingte Wahrscheinlichkeit\n",
    "\n",
    "**Bedingte Wahrscheinlichkeit**: Wahrscheinlichkeit für ein Ereigniss (A) unter der Bedingung eines anderen Ereignisses (B)\n",
    "\n",
    "$$ P(A|B) = \\frac{P(A \\cap B)}{P(B)}$$ \n",
    "\n",
    "**Satz von Bayes**: Bestimmen der bedingten Wahrscheinlichkeit von P(A|B) wenn P(B|A) bekannt ist\n",
    "\n",
    "$$ P(A|B) = \\frac{P(B|A)*P(A)}{P(B)} $$\n",
    "\n",
    "**Satz der totalen Wahrscheinlichkeit**: Berechnen der Wahrscheinlichkeit eines Ereignisses (A) wenn nur die bedingte oder gemeinsam Wahrscheinlichkeit eines anderen Ereignisses (B) bekannt ist.\n",
    "\n",
    "$$ P(A) = P(A \\cap B) + P(A \\cap \\bar{B}) = P(B) * P(A|B) + P(\\bar{B}) * P(A|\\bar{B}) $$\n",
    "\n",
    "**Stochastische Unabhängigkeit**: Ein Ereignis (A) ist dann unabhängig von Ereignis (B) wenn sowohl die bedingte Wahrscheinlichkeit P=(A|B) wie auch die unbedingte Wahrscheinlichkeit P=(A) identisch sind. Somit muss gelten\n",
    "\n",
    "$$ P(A \\cap B) = P(A) * P(B)$$\n"
   ]
  },
  {
   "cell_type": "markdown",
   "metadata": {},
   "source": [
    "## LE 2"
   ]
  },
  {
   "cell_type": "markdown",
   "metadata": {},
   "source": [
    "### Zufallsvariablen\n",
    "\n",
    "| Begriff | Definition | Beispiel |\n",
    "|---------|------------|----------|\n",
    "| Diskrete Zufallsvariablen | nehmen endlich viele oder abzählbar unendlich viele Werte an | Ergebnisse beim Würfeln, Münzwurf | \n",
    "| Stetige Zufallsvariablen | nehmen unendliche viele, nicht abzählbare Werte an. Es können nur Wahrscheinlichkeiten für Intervalle, jedoch nicht für genaue Werte berechnet werden. | Zeiten, Längen, Temparaturen | \n",
    "\n",
    "\n",
    "Berechnung des Erwartungswerts für diskrete Zufallsvariablen\n",
    "\n",
    "$$ E(X) = \\mu $$\n",
    "$$ E(X) = \\sum{x_i*f(x_i)} $$\n",
    "Beispiel bei einem Würfel:\n",
    "$$ E(X) = 1 * \\frac{1}{6} + 2 * \\frac{1}{6} + 3 * \\frac{1}{6} + 4 * \\frac{1}{6} + 5 * \\frac{1}{6} + 6 * \\frac{1}{6} = 3.5 $$\n",
    "Varianz:\n",
    "$$ Var(X) = E[(X-\\mu)^2] = \\sum{(x_i - \\mu)^2 * f(x_i)} $$"
   ]
  },
  {
   "cell_type": "code",
   "execution_count": 15,
   "metadata": {},
   "outputs": [
    {
     "name": "stdout",
     "output_type": "stream",
     "text": [
      "Erwartungswert: 3.5\n",
      "Varianz: 2.9166666666666665\n"
     ]
    }
   ],
   "source": [
    "# Beispiel Würfel\n",
    "\n",
    "import numpy as np\n",
    "\n",
    "# Mögliche Werte\n",
    "X = np.array([1,2,3,4,5,6])\n",
    "# Entsprechende Wanrscheinlichkeiten (Probabilities)\n",
    "P = np.array([1/6,1/6,1/6,1/6,1/6,1/6])\n",
    "\n",
    "# Erwartungswert\n",
    "E = sum(X * P)\n",
    "print(f'Erwartungswert: {E}')\n",
    "\n",
    "# Varianz\n",
    "V = sum((X-E)**2 * P)\n",
    "print(f'Varianz: {V}')"
   ]
  },
  {
   "cell_type": "markdown",
   "metadata": {},
   "source": [
    "**Verteilungsfunktion**:\n",
    "\n",
    "Aggregiert alle Wahrscheinlichkeiten der Dichte und gibt somit die kummulierte Wahrscheinlichkeit alle Werte bis zu einem definierten Punkt an. Die Verteilungsfunktion $ F(x) $ gibt an, wie gross die Wahrscheinlichkeit für $ \\leq $ eines bestimmten Werte ist.\n",
    "\n",
    "**Diskrete Verteilungsfunktion**:\n",
    "\n",
    "Beispiel: Wie gross ich die Wahrscheinlichkeit eine 5 oder kleiner zu würfeln:\n",
    "\n",
    "$ P(X \\leq 5) = P(X = 1) + P(X = 2) + P(X = 3) + P(X = 4) + P(X = 5) = \\frac{1}{6} + \\frac{1}{6} + \\frac{1}{6} + \\frac{1}{6} + \\frac{1}{6} = \\frac{5}{6} $\n",
    "\n",
    "Wie gross ist die Wahrscheinlichkeit mindestens eine 5 zu würfeln (Gegenwahrscheinlichkeit):\n",
    "\n",
    "$ P(X \\geq 5) = 1 - P(X \\leq 4) = \\frac{2}{6}$ \n",
    "\n",
    "**Stetige Verteilungsfunktion**:\n",
    "\n",
    "Berechnen des Integrals einer Verteilfunktion für einen bestimmten Abschnitt.\n",
    "\n",
    "Rechenregeln\n",
    "- $ P(X \\leq x) = P(X < x) $ Es spielt keine Rolle ob die Intervallgrenzen zum Intervall gehören oder nicht. (Weil ein einzelner Wert von x die Wahrscheinlichkeit 0 hat)\n",
    "- $ P(a \\leq X \\leq b) = P(X \\leq b) - P(X \\leq a) = F(b) - F(a) $ Wahrscheinlichkeit welche zwischen zwei Werten liegt\n",
    "- $ P(X > x) = 1 - P(X \\leq x)$ Gegenergebnis für grösser-gleich Aussagen\n",
    "\n"
   ]
  },
  {
   "cell_type": "markdown",
   "metadata": {},
   "source": [
    "### Binomialverteilung (Probability Mass Function)\n",
    "\n",
    "Experiment mit zwei Möglichkeiten (werden auch Bernoulli Experiment genannt). Beispiel: Mehrmaliges Werfen einer Münze.\n",
    "\n",
    "$$ \\binom{n}{k} * p^k * (1-p)^{n-k} $$\n",
    "\n",
    "- n = Grösse der Stichprobe\n",
    "- p = Erfolgswahrscheinlichkeit des Ereignisses\n",
    "- k = Anzahl Erfolge im Zufallsexperiment\n",
    "\n",
    "Erwartungswert:\n",
    "$$ E(x) = n * p $$\n",
    "\n",
    "Varianz:\n",
    "$$ V(x) = n * p * (1-p) $$"
   ]
  },
  {
   "cell_type": "markdown",
   "metadata": {},
   "source": [
    "Beispiel 1: Ein Würfel wird 10x gewürfelt, wobei möglichst oft eine 6 erreicht werden soll. Was ist die Wahrscheinlichkeit, dass dies 3 mal geschieht?\n",
    "\n",
    " \n",
    " $ P(X = 3) $"
   ]
  },
  {
   "cell_type": "code",
   "execution_count": 11,
   "metadata": {},
   "outputs": [
    {
     "data": {
      "text/plain": [
       "0.1550453595742519"
      ]
     },
     "execution_count": 11,
     "metadata": {},
     "output_type": "execute_result"
    }
   ],
   "source": [
    "from scipy.stats import binom\n",
    "\n",
    "binom.pmf(k=3,n=10,p=1/6)"
   ]
  },
  {
   "cell_type": "markdown",
   "metadata": {},
   "source": [
    "Beispiel 2: Wie hoch ist die Wahrscheinlichkeit höchstens 1 Treffer (also 1x eine 6 zu Würfeln) zu erzielen.\n",
    "\n",
    "Also: $P(X \\leq 1) = P(X=0) + P(X=1)$\n",
    "\n",
    "Oder auch formuliert als Cumulative Distribution Function (cdf): \n",
    "\n",
    "$$ binom.cdf(k,n,p) = \\binom{n}{0} * p^0 * (1-p)^{n-0} + ... + \\binom{n}{k} * p^k * (1-p)^{n-k}$$"
   ]
  },
  {
   "cell_type": "code",
   "execution_count": 13,
   "metadata": {},
   "outputs": [
    {
     "data": {
      "text/plain": [
       "0.011892688154907504"
      ]
     },
     "execution_count": 13,
     "metadata": {},
     "output_type": "execute_result"
    }
   ],
   "source": [
    "binom.cdf(k=1,n=10,p=1/6)"
   ]
  },
  {
   "cell_type": "markdown",
   "metadata": {},
   "source": [
    "Beispiel 3: Wie hoch ist die Wahrscheinlichkeit mindestes 1 Treffer (also 1x eine 6 zu Würfeln) zu erzielen.\n",
    "\n",
    "Also: $P(X \\geq 1) = 1-P(X<1) = 1-P(X\\leq 0)$"
   ]
  },
  {
   "cell_type": "code",
   "execution_count": 15,
   "metadata": {},
   "outputs": [
    {
     "data": {
      "text/plain": [
       "1.0"
      ]
     },
     "execution_count": 15,
     "metadata": {},
     "output_type": "execute_result"
    }
   ],
   "source": [
    "1 - binom.pmf(n=10,p=1/6,k=0)"
   ]
  },
  {
   "cell_type": "markdown",
   "metadata": {},
   "source": [
    "Beispiel 4: Wie hoch ist die Wahrscheinlichkeit, mindestens zwei 2 Treffer zu erzielen.\n",
    "\n",
    "$ P(X > 1) = 1-P(X \\leq 1) $"
   ]
  },
  {
   "cell_type": "code",
   "execution_count": 18,
   "metadata": {},
   "outputs": [
    {
     "data": {
      "text/plain": [
       "0.1306612003804164"
      ]
     },
     "execution_count": 18,
     "metadata": {},
     "output_type": "execute_result"
    }
   ],
   "source": [
    "1 - binom.cdf(n=10,p=1/6,k=1)"
   ]
  },
  {
   "cell_type": "markdown",
   "metadata": {},
   "source": [
    "Beispiel 5: Wie hoch ist die Wahrscheinlichkeit, mindestens weniger als 1 Treffer zu erzielen.\n",
    "\n",
    "$ P(X < 1) = P(X \\leq 0) $"
   ]
  },
  {
   "cell_type": "code",
   "execution_count": 6,
   "metadata": {},
   "outputs": [
    {
     "data": {
      "text/plain": [
       "0.1615055828898457"
      ]
     },
     "execution_count": 6,
     "metadata": {},
     "output_type": "execute_result"
    }
   ],
   "source": [
    "binom.pmf(n=10,p=1/6,k=0)"
   ]
  },
  {
   "cell_type": "markdown",
   "metadata": {},
   "source": [
    "### Poissonverteilung\n",
    "\n",
    "Wird verwendet für Zufallsexperimente, die die Häufigkeit eines Ereignisses über eine gewisse Zeit betrachten. \n",
    "\n",
    "$$ X \\sim Po(\\lambda) $$\n",
    "\n",
    "Dichtefunktion für die Poissonverteilung:\n",
    "\n",
    "$$ f(x) = \\frac{\\lambda^x}{x!}*e^{-\\lambda}$$\n",
    "\n",
    "Verteilungsfunktion:\n",
    "\n",
    "$$ F(x) = P(X \\leq x) = \\sum_{k=0}^x f(k) $$\n",
    "\n",
    "Erwartungswert:\n",
    "\n",
    "$$ E(x) = \\lambda $$\n",
    "\n",
    "Varianz:\n",
    "\n",
    "$$ Var(x) = \\lambda $$"
   ]
  },
  {
   "cell_type": "code",
   "execution_count": 9,
   "metadata": {},
   "outputs": [
    {
     "name": "stdout",
     "output_type": "stream",
     "text": [
      "Verteilungsfunktion: 0.2650259152973616\n"
     ]
    }
   ],
   "source": [
    "from scipy.stats import poisson\n",
    "# verteilungsfunktion, prozent bis zu einem bestimmten punkt (kumulierte Wahrscheinlichkeit bis zu k treffern) poisson.cdf(k, mu, loc=0) für \n",
    "# k=anzahl treffer, mu=Erwartungswert, und loc zum verschieben der verteilung\n",
    "pk = poisson.cdf(k=10, mu=5, loc=7)\n",
    "print('Verteilungsfunktion:', pk)"
   ]
  },
  {
   "cell_type": "code",
   "execution_count": null,
   "metadata": {},
   "outputs": [],
   "source": [
    "# # Prozentwert an einem bestimmten Punkt (für eine bestimmte anzahl treffer k) poisson.pmf(k, mu, loc) gleich wie oben\n",
    "pp = poisson.pmf()\n",
    "print('Wert für Treffer k:', pp)"
   ]
  },
  {
   "cell_type": "code",
   "execution_count": null,
   "metadata": {},
   "outputs": [],
   "source": [
    "# Eingeben wieviele Prozent Chance es bis zu einem Treffer k hat und man erhält die Anzahl Treffer k für die kumulierte Wahrscheinichkeit bis k\n",
    "# poisson.ppf(q, mu, loc) für q=Wahrscheinlichkeit für k Treffer, n=Anzahl Versuche\n",
    "k = binom.ppf()\n",
    "print('Anzahl Treffer k:', k)"
   ]
  },
  {
   "cell_type": "markdown",
   "metadata": {},
   "source": [
    "## Normalverteilung\n",
    "\n",
    "Die stetige Zufallsvariable X hat die Wahrscheinlichkeitsdichte:\n",
    "$$f(x | \\mu, \\sigma^2) = \\cfrac{1}{\\sqrt{2\\pi\\sigma^2}} * e^{-\\cfrac{(x - \\mu)^2}{2\\sigma^2}}$$\n",
    "mit dem Erwartungswert $\\mu$ und der Varianz $\\sigma^2$.\n",
    "\n",
    "https://docs.scipy.org/doc/scipy/reference/generated/scipy.stats.norm.html\n"
   ]
  },
  {
   "cell_type": "code",
   "execution_count": 20,
   "metadata": {},
   "outputs": [
    {
     "name": "stdout",
     "output_type": "stream",
     "text": [
      "0.15865525393145707\n"
     ]
    }
   ],
   "source": [
    "from scipy.stats import norm\n",
    "# Verteilungsfunktion, fläche unter der kurve bis zum punkt x: norm.cdf(x, log=0, scale=1) mit log=Erwartungswert, scale=standardabweichung\n",
    "x = -1\n",
    "pk = norm.cdf(x)\n",
    "print(pk)"
   ]
  },
  {
   "cell_type": "markdown",
   "metadata": {},
   "source": [
    "Cumulative Density Function\n",
    "\n",
    "<img src=\"norm_cdf.png\" width=\"400\">"
   ]
  },
  {
   "cell_type": "code",
   "execution_count": null,
   "metadata": {},
   "outputs": [],
   "source": [
    "# Umkehrfunktion von cdf, Wert bis zu dem y Prozent unter der Kurve sind(z. B. norm.ppf(0.5) = 0, denn am Punkt 0 ist die Fläche unter der Kurve 50 Prozent)\n",
    "WP = norm.ppf()\n",
    "print(WP)"
   ]
  },
  {
   "cell_type": "markdown",
   "metadata": {},
   "source": [
    "Percentage Point Function\n",
    "\n",
    "<img src=\"norm_ppf.png\" width=\"400\">\n",
    "\n",
    "Probability between two values\n",
    "\n",
    "<img src=\"norm_cdf_substract.png\" width=\"400\">"
   ]
  },
  {
   "cell_type": "code",
   "execution_count": 21,
   "metadata": {},
   "outputs": [
    {
     "data": {
      "text/plain": [
       "0.15865525393145707"
      ]
     },
     "execution_count": 21,
     "metadata": {},
     "output_type": "execute_result"
    }
   ],
   "source": [
    "# Die Rest nach einem bestimmten Punkt (Tail Probability)\n",
    "\n",
    "norm.sf(1)"
   ]
  },
  {
   "cell_type": "markdown",
   "metadata": {},
   "source": [
    "Tail Probabilites\n",
    "\n",
    "<img src=\"norm_sf.png\" width=\"400\">"
   ]
  },
  {
   "cell_type": "code",
   "execution_count": null,
   "metadata": {},
   "outputs": [],
   "source": []
  }
 ],
 "metadata": {
  "interpreter": {
   "hash": "752579dbebe7f4dfe7c1aa72eac13e23fc88be2cc1ea7ab14e1f8d69b2d97d12"
  },
  "kernelspec": {
   "display_name": "Python 3.8.3 64-bit",
   "language": "python",
   "name": "python3"
  },
  "language_info": {
   "codemirror_mode": {
    "name": "ipython",
    "version": 3
   },
   "file_extension": ".py",
   "mimetype": "text/x-python",
   "name": "python",
   "nbconvert_exporter": "python",
   "pygments_lexer": "ipython3",
   "version": "3.8.3"
  },
  "orig_nbformat": 4
 },
 "nbformat": 4,
 "nbformat_minor": 2
}
