{
 "cells": [
  {
   "cell_type": "markdown",
   "metadata": {},
   "source": [
    "# Serie 10\n",
    "## Paramenterschätzung, Konfidenzintervalle"
   ]
  },
  {
   "cell_type": "code",
   "execution_count": 1,
   "metadata": {},
   "outputs": [],
   "source": [
    "import numpy as np\n",
    "from scipy.stats import norm"
   ]
  },
  {
   "cell_type": "code",
   "execution_count": 2,
   "metadata": {},
   "outputs": [
    {
     "name": "stdout",
     "output_type": "stream",
     "text": [
      "244.0\n"
     ]
    }
   ],
   "source": [
    "# 1. \n",
    "\n",
    "# Erwartungswert\n",
    "\n",
    "x  = np.array([245, 233, 249, 255, 238, 251, 245, 250, 236, 238])\n",
    "E = sum(x)/len(x)\n",
    "print(E)\n",
    "# Standardabweichung\n",
    "s = np.std(x, ddof=1)\n"
   ]
  },
  {
   "cell_type": "code",
   "execution_count": 3,
   "metadata": {},
   "outputs": [
    {
     "data": {
      "text/plain": [
       "0.20806399246312846"
      ]
     },
     "execution_count": 3,
     "metadata": {},
     "output_type": "execute_result"
    }
   ],
   "source": [
    "# 1. b)\n",
    "norm.sf(250, loc=E,scale=s)"
   ]
  },
  {
   "cell_type": "code",
   "execution_count": 7,
   "metadata": {},
   "outputs": [
    {
     "name": "stdout",
     "output_type": "stream",
     "text": [
      "Erwartungswert = Duchschnitt von X: 100\n",
      "Standardabweichung bei 25 Personen: 3.0\n",
      "Standardabweichung bei 25 Personen: 0.75\n"
     ]
    }
   ],
   "source": [
    "# 2. a)\n",
    "\n",
    "print('Erwartungswert = Duchschnitt von X: 100')\n",
    "\n",
    "print(f'Standardabweichung bei 25 Personen: {15/25**0.5}')\n",
    "print(f'Standardabweichung bei 25 Personen: {15/400**0.5}')"
   ]
  },
  {
   "cell_type": "code",
   "execution_count": 8,
   "metadata": {},
   "outputs": [
    {
     "data": {
      "text/plain": [
       "0.15851941887820603"
      ]
     },
     "execution_count": 8,
     "metadata": {},
     "output_type": "execute_result"
    }
   ],
   "source": [
    "# 2. b)\n",
    "\n",
    "norm.cdf(103,loc=100,scale=15)-norm.cdf(97,loc=100,scale=15)"
   ]
  },
  {
   "cell_type": "code",
   "execution_count": 12,
   "metadata": {},
   "outputs": [
    {
     "data": {
      "text/plain": [
       "0.6826894921370859"
      ]
     },
     "execution_count": 12,
     "metadata": {},
     "output_type": "execute_result"
    }
   ],
   "source": [
    "# 2. c)\n",
    "norm.cdf(103,loc=100,scale=3)-norm.cdf(97,loc=100,scale=3)"
   ]
  },
  {
   "cell_type": "code",
   "execution_count": 28,
   "metadata": {},
   "outputs": [
    {
     "name": "stdout",
     "output_type": "stream",
     "text": [
      "Erwartungswert: 32.0\n",
      "Standardabweichung: 4.760952285695233\n"
     ]
    }
   ],
   "source": [
    "# 3 a)\n",
    "\n",
    "x = np.array([24, 34, 32, 36, 38, 32, 28])\n",
    "mu = x.sum()/len(x)\n",
    "\n",
    "print(f'Erwartungswert: {mu}')\n",
    "std = np.std(x, ddof=1)\n",
    "print(f'Standardabweichung: {std}')\n"
   ]
  },
  {
   "cell_type": "code",
   "execution_count": 40,
   "metadata": {},
   "outputs": [
    {
     "name": "stdout",
     "output_type": "stream",
     "text": [
      "[27.596694899337113, 36.40330510066289]\n"
     ]
    }
   ],
   "source": [
    "# 3. b)\n",
    "print([mu-((2.447/7**0.5)*std),mu+(2.447/7**0.5)*std])"
   ]
  },
  {
   "cell_type": "code",
   "execution_count": 41,
   "metadata": {},
   "outputs": [
    {
     "name": "stdout",
     "output_type": "stream",
     "text": [
      "[28.503628193466287, 35.49637180653371]\n"
     ]
    }
   ],
   "source": [
    "# 3. c)\n",
    "print([mu-((1.943/7**0.5)*std),mu+(1.943/7**0.5)*std])"
   ]
  },
  {
   "cell_type": "code",
   "execution_count": 48,
   "metadata": {},
   "outputs": [
    {
     "name": "stdout",
     "output_type": "stream",
     "text": [
      "[49.856201549133395, 50.423798450866606]\n"
     ]
    }
   ],
   "source": [
    "# 4. a)\n",
    "\n",
    "x = np.array([50.12, 49.96, 50.35, 50.02, 49.80, 51.00, 50.12, 49.75])\n",
    "e = x.sum()/len(x)\n",
    "std = np.std(x, ddof=1)\n",
    "\n",
    "print([e-((1.895/7**0.5)*std),e+(1.895/7**0.5)*std])"
   ]
  },
  {
   "cell_type": "code",
   "execution_count": 50,
   "metadata": {},
   "outputs": [
    {
     "name": "stdout",
     "output_type": "stream",
     "text": [
      "[49.33008864259282, 50.94991135740718]\n"
     ]
    }
   ],
   "source": [
    "# 4. b)\n",
    "print([e-((5.408/7**0.5)*std),e+(5.408/7**0.5)*std])"
   ]
  },
  {
   "cell_type": "code",
   "execution_count": 51,
   "metadata": {},
   "outputs": [
    {
     "name": "stdout",
     "output_type": "stream",
     "text": [
      "[588000.0, 612000.0]\n"
     ]
    }
   ],
   "source": [
    "#5. a)\n",
    "e = 600000\n",
    "std = 90000\n",
    "# z = a-0.0455/2 = 0.97725 -> Tabelle: 2\n",
    "z = 2\n",
    "n = 225\n",
    "print([e-((z/n**0.5)*std),e+(z/n**0.5)*std])"
   ]
  },
  {
   "cell_type": "code",
   "execution_count": null,
   "metadata": {},
   "outputs": [],
   "source": []
  }
 ],
 "metadata": {
  "interpreter": {
   "hash": "aee8b7b246df8f9039afb4144a1f6fd8d2ca17a180786b69acc140d282b71a49"
  },
  "kernelspec": {
   "display_name": "Python 3.9.7 64-bit",
   "language": "python",
   "name": "python3"
  },
  "language_info": {
   "codemirror_mode": {
    "name": "ipython",
    "version": 3
   },
   "file_extension": ".py",
   "mimetype": "text/x-python",
   "name": "python",
   "nbconvert_exporter": "python",
   "pygments_lexer": "ipython3",
   "version": "3.8.3"
  },
  "orig_nbformat": 4
 },
 "nbformat": 4,
 "nbformat_minor": 2
}
