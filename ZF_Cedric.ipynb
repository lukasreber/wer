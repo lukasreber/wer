{
 "cells": [
  {
   "cell_type": "markdown",
   "metadata": {},
   "source": [
    "# Prüfungszusammenfassung"
   ]
  },
  {
   "cell_type": "code",
   "execution_count": 4,
   "metadata": {},
   "outputs": [],
   "source": [
    "# Basic\n",
    "import pandas as pd\n",
    "import numpy as np\n",
    "import random\n",
    "import scipy as sp\n",
    "from scipy import stats\n",
    "\n",
    "# Kombinatorik\n",
    "from scipy.special import comb # anzahl kombinationen von n dingen wenn k auf einmal genommen werden\n",
    "from scipy.special import perm # permutation von n dingen wenn k auf einmal genommen werden\n",
    "from scipy.special import factorial # fakultät\n",
    "\n",
    "\n",
    "# Verteilungen\n",
    "# diskret\n",
    "from scipy.stats import binom # binomialverteilung\n",
    "from scipy.stats import poisson # poissonverteilung\n",
    "from scipy.stats import bernoulli # bernoulliverteilung\n",
    "from scipy.stats import geom # geometrische verteilung\n",
    "\n",
    "# stetig\n",
    "from scipy.stats import norm # normalverteilung\n",
    "from scipy.stats import sem # Standardfehler\n",
    "from scipy.stats import expon # exponentialverteilung\n",
    "from scipy.stats import t # t-verteilung\n",
    "\n",
    "# Hypothesentests\n",
    "#from scipy.stats import binomtest\n",
    "from statsmodels.stats import weightstats as stests # ztest\n",
    "\n",
    "# Konfidenzintervalle\n",
    "\n",
    "\n",
    "# Plots\n",
    "import matplotlib.pyplot as plt"
   ]
  },
  {
   "cell_type": "markdown",
   "metadata": {},
   "source": [
    "## Deskriptive Statistik"
   ]
  },
  {
   "cell_type": "markdown",
   "metadata": {},
   "source": [
    "## Kombinatorik"
   ]
  },
  {
   "cell_type": "markdown",
   "metadata": {},
   "source": [
    "https://www.mathebibel.de/kombinatorik"
   ]
  },
  {
   "cell_type": "markdown",
   "metadata": {},
   "source": [
    "**Permutation ohne Wiederholung.**\\\n",
    "Auf wieviele Arten kann man n unterscheidbare Objekte anordnen.\n",
    "$$n!$$"
   ]
  },
  {
   "cell_type": "code",
   "execution_count": 12,
   "metadata": {},
   "outputs": [
    {
     "ename": "TypeError",
     "evalue": "factorial() missing 1 required positional argument: 'n'",
     "output_type": "error",
     "traceback": [
      "\u001b[1;31m---------------------------------------------------------------------------\u001b[0m",
      "\u001b[1;31mTypeError\u001b[0m                                 Traceback (most recent call last)",
      "\u001b[1;32m~\\AppData\\Local\\Temp/ipykernel_16924/3708169291.py\u001b[0m in \u001b[0;36m<module>\u001b[1;34m\u001b[0m\n\u001b[1;32m----> 1\u001b[1;33m \u001b[0mf\u001b[0m \u001b[1;33m=\u001b[0m \u001b[0mfactorial\u001b[0m\u001b[1;33m(\u001b[0m\u001b[1;33m)\u001b[0m\u001b[1;33m\u001b[0m\u001b[1;33m\u001b[0m\u001b[0m\n\u001b[0m\u001b[0;32m      2\u001b[0m \u001b[0mprint\u001b[0m\u001b[1;33m(\u001b[0m\u001b[0mf\u001b[0m\u001b[1;33m)\u001b[0m\u001b[1;33m\u001b[0m\u001b[1;33m\u001b[0m\u001b[0m\n",
      "\u001b[1;31mTypeError\u001b[0m: factorial() missing 1 required positional argument: 'n'"
     ]
    }
   ],
   "source": [
    "f = factorial()\n",
    "print(f)"
   ]
  },
  {
   "cell_type": "markdown",
   "metadata": {},
   "source": [
    "**Permutation mit Wiederholung.**\\\n",
    "Auf wieviele Arten kann man n Objekte anordnen wenn $k_x$ Elemente gleich sind.\n",
    "$$\\cfrac{n!}{k_1! * k_2! * ... * k_x!}$$"
   ]
  },
  {
   "cell_type": "markdown",
   "metadata": {},
   "source": [
    "*Beispiel:* In einer Urne befinden sich drei blaue und zwei rote Kugeln. Wie viele Möglichkeiten gibt es, die Kugeln in einer Reihe anzuordnen?\\\n",
    "$\\cfrac{5!}{3! * 2!}$\n",
    "Es gibt 10 Möglichkeiten drei blaue und zwei rote Kugeln in einer Reihe anzuordnen."
   ]
  },
  {
   "cell_type": "code",
   "execution_count": 9,
   "metadata": {},
   "outputs": [
    {
     "name": "stdout",
     "output_type": "stream",
     "text": [
      "604800.0\n"
     ]
    }
   ],
   "source": [
    "# Beispiel mit zwei die gleich sind\n",
    "PerMW = factorial() / (factorial() * factorial())\n",
    "print(PerMW)"
   ]
  },
  {
   "cell_type": "markdown",
   "metadata": {},
   "source": [
    "**Variation ohne Wiederholung**\\\n",
    "Aus n Objekten werden k Objekte ausgewählt, wobei die Reihenfolge beachtet wird. (Jedes Element wird nur einmal ausgewählt)\n",
    "$$\\cfrac{n!}{(n - k)!}$$"
   ]
  },
  {
   "cell_type": "markdown",
   "metadata": {},
   "source": [
    "*Beispiel:* In einer Urne befinden sich fünf verschiedenfarbige Kugeln. Es sollen drei Kugeln unter Beachtung der Reihenfolge und ohne Zurücklegen gezogen werden. Wie viele Möglichkeiten gibt es?\n",
    "\n",
    "$\\cfrac{5!}{(5 - 3)!} = \\cfrac{5!}{2!} = 60$ Es gibt 60 Möglichkeiten 3 aus 5 Kugeln unter Beachtung der Reihenfolge und ohne Zurücklegen zu ziehen."
   ]
  },
  {
   "cell_type": "code",
   "execution_count": null,
   "metadata": {},
   "outputs": [],
   "source": [
    "varoW = perm() # perm(n, k) mit n=anzahl objekten, k=anzahl ziehungen\n",
    "print(varoW)"
   ]
  },
  {
   "cell_type": "markdown",
   "metadata": {},
   "source": [
    "**Variation mit Wiederholung**\\\n",
    "Aus n Objekten werden k ausgewählt wobei die Reihenfolge beachtet wird. Die Elemente werden zurückgelegt.\n",
    "\n",
    "$$n * n * n * ... * n = n^k$$\n",
    "\n",
    "*Beispiel:* In einer Urne befinden sich fünf verschiedenfarbige Kugeln. Es sollen drei Kugeln unter Beachtung der Reihenfolge und mit Zurücklegen gezogen werden. Wie viele Möglichkeiten gibt es?\\\n",
    "$5 * 5 * 5 = 5^3 = 125$ Es gibt 125 Möglichkeiten 3 aus 5 Kugeln unter Beachtung der Reihenfolge und mit Zurücklegen zu ziehen."
   ]
  },
  {
   "cell_type": "code",
   "execution_count": null,
   "metadata": {},
   "outputs": [],
   "source": [
    "n = \n",
    "k = \n",
    "varmW = (n)**k\n",
    "print(varmW)"
   ]
  },
  {
   "cell_type": "markdown",
   "metadata": {},
   "source": [
    "**Kombination ohne Wiederholung**\\\n",
    "Aus n Objekten werden k ausgewählt ohne die Reihenfolge zu beachten. Jedes Objekt wird nur einmal ausgewählt.\n",
    "$$\\frac{n!}{k!(n-k)!} = \\binom{n}{k}$$\n",
    "\n",
    "*Bespiel* n einer Urne befinden sich fünf verschiedenfarbige Kugeln. Es sollen drei Kugeln ohne Beachtung der Reihenfolge und ohne Zurücklegen gezogen werden. Wie viele Möglichkeiten gibt es?\\\n",
    "$\\frac{5!}{3!(5-3)!} = \\binom{5}{3} = 10$ Es gibt 10 Möglichkeiten 3 aus 5 Kugeln ohne Beachtung der Reihenfolge und ohne Zurücklegen zu ziehen. \n"
   ]
  },
  {
   "cell_type": "code",
   "execution_count": null,
   "metadata": {},
   "outputs": [],
   "source": [
    "n = \n",
    "k = \n",
    "c = comb(n, k, exact=True) # mit n=anzahl objekten, k=anzahl gezogener elemente\n",
    "print(c)"
   ]
  },
  {
   "cell_type": "markdown",
   "metadata": {},
   "source": [
    "**Kombination mit Wiederholung**\\\n",
    "Aus n Objekten werden k ausgewählt, wobei die Reihenfolge nicht beachtet wird und die Objekte mehrmals ausgewählt werden können.\n",
    "$$\\frac{n + k - 1!}{k!((n + k - 1)-k)!} = \\binom{n + k - 1}{k}$$\n",
    "\n",
    "*Beispiel:* In einer Urne befinden sich fünf verschiedenfarbige Kugeln. Es sollen drei Kugeln ohne Beachtung der Reihenfolge und mit Zurücklegen gezogen werden. Wie viele Möglichkeiten gibt es?\n",
    "\n",
    "$\\frac{5 + 3 - 1!}{3!((5 + 3 - 1)-3)!} = \\binom{5 + 3 - 1}{3} = 35$ Es gibt 35 Möglichkeiten 3 aus 5 Kugeln ohne Beachtung der Reihenfolge und mit Zurücklegen zu ziehen."
   ]
  },
  {
   "cell_type": "code",
   "execution_count": null,
   "metadata": {},
   "outputs": [],
   "source": [
    "n = \n",
    "k = \n",
    "c = comb(n, k, exact=True, repetition=True) # mit n=anzahl objekten, k=anzahl gezogener elemente\n",
    "print(c)"
   ]
  },
  {
   "cell_type": "markdown",
   "metadata": {},
   "source": [
    "## Wahrscheinlichkeiten"
   ]
  },
  {
   "cell_type": "markdown",
   "metadata": {},
   "source": [
    "<img src=\"probability_tree.png\" width=\"300\"/>"
   ]
  },
  {
   "cell_type": "markdown",
   "metadata": {},
   "source": [
    "Das Baumdiagramm illustriert $P ( A ∩ B ) = P ( A ∣ B ) * P ( B )$"
   ]
  },
  {
   "cell_type": "markdown",
   "metadata": {},
   "source": [
    "**Wahrscheinlichkeitsraum**\\\n",
    "Besteht aus $(\\Omega, \\sum, P)$ wobei $\\Omega$ die Ergebnismenge ist (Eine Menge aus allen Ergebnissen). $\\sum$ ist die Ereignismenge sie besteht aus Teilmengen von $\\Omega$, welche alle Ereignisse darstellen. $P$ ist ein Wahrscheinlichkeitsmass, welches den Ereignissen Zahlen zuordnet.\n"
   ]
  },
  {
   "cell_type": "markdown",
   "metadata": {},
   "source": [
    "**Bedingte Wahrscheinlichkeit**\\\n",
    "Wahrscheinlichkeit für ein Ereignis A unter der Bedingung dass Ereignis B eingetreten ist.\n",
    "$$P(A|B) = \\cfrac{P(A\\cap B)}{P(B)}$$\n",
    "$P(A \\cap B)$ ist die Wahrscheinlichkeit dass A und B beide eintreten."
   ]
  },
  {
   "cell_type": "code",
   "execution_count": null,
   "metadata": {},
   "outputs": [],
   "source": [
    "PB =  # Wahrscheinlichkeit von B\n",
    "PAB =  # Wahrscheinlichkeit von A und B\n",
    "P = PAB / PB\n",
    "print(P)"
   ]
  },
  {
   "cell_type": "markdown",
   "metadata": {},
   "source": [
    "**Satz von Bayes**\\\n",
    "Wenn man eine bedingte Wahrscheinlichkeit und die beiden Wahrscheinlichkeiten kennt, kann man die umgekehrte bedingte Wahrscheinlichkeit mit dem Satz von Bayes berechnen.\n",
    "$$P(A|B) = \\cfrac{P(B|A) * P(A)}{P(B)}$$"
   ]
  },
  {
   "cell_type": "markdown",
   "metadata": {},
   "source": [
    "**Gesetz der totalen Wahrscheinlichkeit:**\\\n",
    "Wenn man nur die bedingte Wahrscheinlichkeit abhängig von einem Ereignis kennt kann man so die totale Wahrscheinlichkeit berechnen.\n",
    "$$P(A) = P(A \\cap B) + P(A \\cap \\bar B) = P(B) * P(A|B) + P(\\bar B) * P(A | \\bar B)$$"
   ]
  },
  {
   "cell_type": "code",
   "execution_count": 13,
   "metadata": {},
   "outputs": [],
   "source": [
    "# Hier totale Wahrscheinlichkeit berechnen"
   ]
  },
  {
   "cell_type": "markdown",
   "metadata": {},
   "source": [
    "**Unabhängigkeit**"
   ]
  },
  {
   "cell_type": "markdown",
   "metadata": {},
   "source": [
    "Zwei Ereignisse sind stochastisch unabhängig wenn der Ausgang des ersten das zweite nicht beeinflusst. Wenn die folgenden Formel gilt sind die Ereignisse stochastisch unabhängig, gilt sie nicht sind sie stochastisch abhängig.\n",
    "$$P(A \\cap B) = P(A) * P(B)$$\n",
    "https://www.mathebibel.de/stochastische-unabhaengigkeit"
   ]
  },
  {
   "cell_type": "markdown",
   "metadata": {},
   "source": [
    "## Verteilungen"
   ]
  },
  {
   "cell_type": "markdown",
   "metadata": {},
   "source": [
    "**diskret**: wenn nur endlich viele oder abzählbar unendlich viele Werte angenommen werden können.\\\n",
    "**stetig**: wenn alle reelen Werte in einem bestimmten Bereich angenommen werden können.\\\n",
    "**Verteilungsfunktion**: Kumuliert die Wahrscheinlichkeit bis zu einem Punkt.\\\n",
    "**Zähldichte**: Funktion welche den Werten der Zufallsvariablen Wahrscheinlichkeiten zuordnet (diskret).\\\n",
    "**Dichtefunktion**: Gibt die Wahrscheinlichkeit in einem bestimmten Intervall an (stetig).\\\n",
    "**Zentraler Grenzwertsatz**: Die Summe unabhängig und identisch verteilter Zufallsvariablen einer zufälligen Verteilung nähern sich mit einem grossen Stichprobenumfang einer Normalverteilung an."
   ]
  },
  {
   "cell_type": "markdown",
   "metadata": {},
   "source": [
    "### Normalverteilung\n"
   ]
  },
  {
   "cell_type": "markdown",
   "metadata": {},
   "source": [
    "Die stetige Zufallsvariable X hat die Wahrscheinlichkeitsdichte:\n",
    "$$f(x | \\mu, \\sigma^2) = \\cfrac{1}{\\sqrt{2\\pi\\sigma^2}} * e^{-\\cfrac{(x - \\mu)^2}{2\\sigma^2}}$$\n",
    "mit dem Erwartungswert $\\mu$ und der Varianz $\\sigma^2$.\n",
    "\n",
    "https://docs.scipy.org/doc/scipy/reference/generated/scipy.stats.norm.html"
   ]
  },
  {
   "cell_type": "markdown",
   "metadata": {},
   "source": [
    "**Additionstheorem**\\\n",
    "Wenn $X_1, X_2, ..., X_n$ voneinander unabhängige normalverteilte Zufallsvariablen sind, dann sind diese addiert $Y = X_1 + X_2 +...+ X_n$ (neue Zufallsvariable $Y$) auch normalverteilt mit dem Erwartungswert\n",
    "$$\\mu = \\mu_1 + \\mu_2 + ... + \\mu_n$$\n",
    "und der Varianz\n",
    "$$\\sigma = \\sigma_1^2 + \\sigma_2^2 + ... + \\sigma_n^2$$\n",
    "und der Standardabweichung\n",
    "$$\\sigma = \\sqrt{\\sigma_1^2 + \\sigma_2^2 + ... + \\sigma_n^2}$$\n"
   ]
  },
  {
   "cell_type": "markdown",
   "metadata": {},
   "source": [
    "**Zentraler Grenzwertsatz**\\\n",
    "Die Summe von vielen unabhängigen Zufallsvariablen ist immer normalverteilt. Z. B. Würfel wenn man mit immer mehr Würfeln würfelt und die Summe der Augenzahlen bildet, erhält man eine Normalverteilung."
   ]
  },
  {
   "cell_type": "code",
   "execution_count": 4,
   "metadata": {},
   "outputs": [],
   "source": [
    "# Daten für das Berechnen\n",
    "data = []"
   ]
  },
  {
   "cell_type": "code",
   "execution_count": 6,
   "metadata": {},
   "outputs": [
    {
     "name": "stdout",
     "output_type": "stream",
     "text": [
      "Erwartungswert Stichprobe: 2.0\n",
      "Varianz Stichprobe: 0.0\n"
     ]
    }
   ],
   "source": [
    "Ew = np.mean(data)\n",
    "\n",
    "Va = np.var(data)           # mit np.var(data, ddof=1) wird durch n-1 dividiert sonst mit 0\n",
    "St = np.std(data)           # mit np.std(data, ddof=1) wird durch n-1 dividiert sonst mit 0\n",
    "print('Erwartungswert Stichprobe:', Ew)\n",
    "print('Varianz Stichprobe:', Va)\n",
    "\n",
    "# Z-transformation/standardisierung\n",
    "X =         # Wert der transformiert werden soll\n",
    "Z = (X - Ew)/St\n",
    "print('Wert der transformierten Variablen:', Z)"
   ]
  },
  {
   "cell_type": "code",
   "execution_count": 33,
   "metadata": {},
   "outputs": [
    {
     "name": "stdout",
     "output_type": "stream",
     "text": [
      "0.8413447460685429\n",
      "75.32719559572791\n"
     ]
    }
   ],
   "source": [
    "# Verteilungsfunktion, fläche unter der kurve bis zum punkt x: norm.cdf(x, log=0, scale=1) mit log=Erwartungswert, scale=standardabweichung\n",
    "x = \n",
    "pk = norm.cdf(x)\n",
    "print(pk)\n",
    "\n",
    "# Umkehrfunktion von cdf, Wert bis zu dem y Prozent unter der Kurve sind(z. B. norm.ppf(0.5) = 0, denn am Punkt 0 ist die Fläche unter der Kurve 50 Prozent)\n",
    "WP = norm.ppf()\n",
    "print(WP)"
   ]
  },
  {
   "cell_type": "code",
   "execution_count": null,
   "metadata": {},
   "outputs": [],
   "source": [
    "# Standardfehler (Standardabweichung des Erwartungwertes)\n",
    "SF = sem(data)\n",
    "print('Standardfehler:', SF)"
   ]
  },
  {
   "cell_type": "markdown",
   "metadata": {},
   "source": [
    "### Exponentialverteilung\n"
   ]
  },
  {
   "cell_type": "markdown",
   "metadata": {},
   "source": [
    "Die stetige Zufallsvariable X hat die Wahrscheinlichkeitsdichte (für x >= 0):\n",
    "$$f(x|\\lambda) = \\lambda e^{-\\lambda x}$$\n",
    "und die Verteilungsfunktion:\n",
    "$$F(x) = P(X <= x) = \\int_0^x f(t) dt = 1 - e^{-\\lambda x}$$\n",
    "\n",
    "https://docs.scipy.org/doc/scipy/reference/generated/scipy.stats.expon.html#scipy.stats.expon"
   ]
  },
  {
   "cell_type": "code",
   "execution_count": null,
   "metadata": {},
   "outputs": [],
   "source": [
    "# Erwartungswert\n",
    "lam = \n",
    "Ew = 1/lam\n",
    "Var = 1/lam**2\n",
    "print('Erwartungswert:', Ew)\n",
    "print('Varianz:', Var)"
   ]
  },
  {
   "cell_type": "code",
   "execution_count": null,
   "metadata": {},
   "outputs": [],
   "source": [
    "# Verteilungsfunktion, Werte unter der Kurve bis x mit expon.cdf(x, log=0, scale=1) mit log=Erwartungswert und scale=Varianz\n",
    "Px = expon.cdf()\n",
    "print(Px)\n",
    "\n",
    "Wx = expon.ppf()\n",
    "print(Wx)"
   ]
  },
  {
   "cell_type": "markdown",
   "metadata": {},
   "source": [
    "### Binomialverteilung"
   ]
  },
  {
   "cell_type": "markdown",
   "metadata": {},
   "source": [
    "Eine Binomialverteilung beschreibt die Verteilung einer Zufallsvariablen bei n Versuchen und k Treffern wobei der Treffer mit einer Wahrscheinlichkeit p eintrifft. (Ist ein Bernoulliexperiment = hat zwei Ausgänge, trifft ein oder nicht. Bernoullikette = Mehrere Bernoulliexperimente hintereinander).\\\n",
    "Formel der Binomialverteilung *Wahrscheinlichkeit für k treffer in n Versuchen wenn k mit einer Wahrscheinlichkeit von p eintritt*:\n",
    "$$p(X = k) = \\binom{n}{k} * p^k * (1 - p)^{n - k}$$\n",
    "\n",
    "https://docs.scipy.org/doc/scipy/reference/generated/scipy.stats.binom.html#scipy.stats.binom"
   ]
  },
  {
   "cell_type": "code",
   "execution_count": null,
   "metadata": {},
   "outputs": [],
   "source": [
    "data = []                       \n",
    "p =                             # Erfolgswahrscheinlichkeit\n",
    "Ew = len(data) * p              # Erwartungswert\n",
    "Var = len(data) * p * (1 - p)\n",
    "print('Erwartungswert:', Ew)\n",
    "print('Varianz:', Var)\n"
   ]
  },
  {
   "cell_type": "code",
   "execution_count": 41,
   "metadata": {},
   "outputs": [
    {
     "data": {
      "text/plain": [
       "1.0"
      ]
     },
     "execution_count": 41,
     "metadata": {},
     "output_type": "execute_result"
    }
   ],
   "source": [
    "# verteilungsfunktion, prozent bis zu einem bestimmten punkt (kumulierte Wahrscheinlichkeit bis zu k treffern) binom.cdf(k, n, p, loc=0) für \n",
    "# k=anzahl treffer, n=anzahl versuche, p=erfolgswahrscheinlichkeit und loc zum verschieben der verteilung\n",
    "pk = binom.cdf()\n",
    "print('Verteilungsfunktion:', pk)\n",
    "\n",
    "# # Prozentwert an einem bestimmten Punkt (für eine bestimmte anzahl treffer k) binom.pmf(k, n, p, loc) gleich wie oben\n",
    "pp = binom.pmf()\n",
    "print('Wert für Treffer k:', pp)\n",
    "\n",
    "# Eingeben wieviele Prozent Chance es bis zu einem Treffer k hat und man erhält die Anzahl Treffer k für die kumulierte Wahrscheinichkeit bis k\n",
    "# binom.ppf(q, n, p, loc) für q=Wahrscheinlichkeit für k Treffer, n=Anzahl Versuche, p=Trefferwahrscheinlichkeit\n",
    "k = binom.ppf()\n",
    "print('Anzahl Treffer k:', k)"
   ]
  },
  {
   "cell_type": "markdown",
   "metadata": {},
   "source": [
    "### Poissonverteilung"
   ]
  },
  {
   "cell_type": "markdown",
   "metadata": {},
   "source": [
    "Mit der Poissonverteilung lässt sich zum Beispiel die Anzahl Ereignisse in einem bestimmten Zeitraum modellieren. \\\n",
    "Der Erwartungswert $\\lambda$ beschreibt die erwartete Anzahl Ereignisse in einem Beobachtungsraum. Die Wahrscheinlichkeit für $x$ Ereignisse ist das Ergebnis der Formel.\n",
    "$$P(X = x) = \\cfrac{\\lambda^x}{x!} * e^{-\\lambda}$$\n",
    "\n",
    "https://docs.scipy.org/doc/scipy/reference/generated/scipy.stats.poisson.html"
   ]
  },
  {
   "cell_type": "code",
   "execution_count": null,
   "metadata": {},
   "outputs": [],
   "source": [
    "data = []\n",
    "Ew =                    # Erwartungswert\n",
    "Var = Ew\n",
    "st = Var**0.5           # Standardabweichung\n",
    "print('Erwartungswert:', Ew)\n",
    "print('Varianz:', Va)\n",
    "print('Standardabweichung:', st)"
   ]
  },
  {
   "cell_type": "code",
   "execution_count": null,
   "metadata": {},
   "outputs": [],
   "source": [
    "# verteilungsfunktion, prozent bis zu einem bestimmten punkt (kumulierte Wahrscheinlichkeit bis zu k treffern) poisson.cdf(k, mu, loc=0) für \n",
    "# k=anzahl treffer, mu=Erwartungswert, und loc zum verschieben der verteilung\n",
    "pk = poisson.cdf()\n",
    "print('Verteilungsfunktion:', pk)\n",
    "\n",
    "# # Prozentwert an einem bestimmten Punkt (für eine bestimmte anzahl treffer k) poisson.pmf(k, mu, loc) gleich wie oben\n",
    "pp = poisson.pmf()\n",
    "print('Wert für Treffer k:', pp)\n",
    "\n",
    "# Eingeben wieviele Prozent Chance es bis zu einem Treffer k hat und man erhält die Anzahl Treffer k für die kumulierte Wahrscheinichkeit bis k\n",
    "# poisson.ppf(q, mu, loc) für q=Wahrscheinlichkeit für k Treffer, n=Anzahl Versuche\n",
    "k = binom.ppf()\n",
    "print('Anzahl Treffer k:', k)"
   ]
  },
  {
   "cell_type": "markdown",
   "metadata": {},
   "source": [
    "## Schätzer"
   ]
  },
  {
   "cell_type": "code",
   "execution_count": 15,
   "metadata": {},
   "outputs": [
    {
     "name": "stdout",
     "output_type": "stream",
     "text": [
      "0.82915619758885\n",
      "0.9574271077563381\n"
     ]
    },
    {
     "data": {
      "text/plain": [
       "array(0.)"
      ]
     },
     "execution_count": 15,
     "metadata": {},
     "output_type": "execute_result"
    }
   ],
   "source": [
    "# Punktschätzer\n",
    "data = []\n",
    "Ew = np.mean(data)\n",
    "var = np.var(data, ddof=1)\n",
    "st = np.std(data, ddof=1)\n",
    "\n",
    "print('Erwartungswert:', Ew)\n",
    "print('Varianz:', var)\n",
    "print('Standardabweichung:', st)\n"
   ]
  },
  {
   "cell_type": "markdown",
   "metadata": {},
   "source": [
    "**Konfidenzintervall**\\\n",
    "Bsp.: Bei einem Konfidenzintervall von 90 % und 10 Stichproben werden 10 Erwartungswerte mit Konfidenzintervallen berechnet. Davon enthalten 9 Konfidenzintervalle den wahren Parameter der Grundgesamtheit. Bei einer grossen Stichprobe kann die Normalverteilung genommen werden mit $\\bar x$ als Erwartungswert, $\\sigma_{\\bar x} = \\cfrac{\\sigma}{\\sqrt n}$ als Standardfehler von $\\bar x$, $n$ als Anzahl Datenpunkte, $z_{1 - \\alpha/2}$ den Grenzpunkt der Standardnormalverteilung bei dem Prozent $1 - \\alpha / 2$ mit $\\alpha$ als Irrtumswahrscheinlichkeit.\n",
    "$$[\\bar{x} - \\sigma_{\\bar x} * z_{1 - \\alpha/2}, \\bar{x} + \\sigma_{\\bar x} * z_{1 - \\alpha/2}]$$\n",
    "\n",
    "Für kleine Stichproben (n<30) wird die t-Verteilung genommen. Die Paramter sind dieselben ausser das $t_{1 - \\alpha/2}$ aus der t-Tabelle gelesen wird mit n - 1 Freiheitsgraden.\n",
    "$$[\\bar{x} - \\sigma_{\\bar x} * t_{1 - \\alpha/2}, \\bar{x} + \\sigma_{\\bar x} * t_{1 - \\alpha/2}]$$\n"
   ]
  },
  {
   "cell_type": "code",
   "execution_count": null,
   "metadata": {},
   "outputs": [],
   "source": [
    "# Intervallschätzer für Stichproben n > 30 mit norm.interval(alpha, log=0, scale=1) mit alpha=Prozentintervall den man will, log=Erwartungswert, \n",
    "# scale=Standardabweichung.    wen man scale/len(data) macht hat man den Standardfehler\n",
    "kfi = norm.interval(alpha=, log=, scale= /(len(data))**0.5)\n",
    "print(kfi)"
   ]
  },
  {
   "cell_type": "markdown",
   "metadata": {},
   "source": [
    "Wenn man die Standardabweichung der Grundgesamtheit kennt, kann man auch bei n<30 die Normalverteilung für das Konfidenzintervall nehmen."
   ]
  },
  {
   "cell_type": "code",
   "execution_count": null,
   "metadata": {},
   "outputs": [],
   "source": [
    "# Intervallschätzer für Stichproben n < 30 mit t.interval(alpha, df, log=0, scale=1) mit alpha=Prozentintervall den man will, df=Anzal Freiheitsgrade(n-1)\n",
    "# log=Erwartungswert, scale=Standardabweichung.    wen man scale/len(data) macht hat man den Standardfehler\n",
    "kfi = t.interval(alpha=, df=, log=, scale=/(len(data))**0.5)\n",
    "print(kfi)"
   ]
  },
  {
   "cell_type": "markdown",
   "metadata": {},
   "source": [
    "Bei Bernoulliexperimenten kann die Formel für die Standardabweichung bei Binomialverteilungen angewendet werden."
   ]
  },
  {
   "cell_type": "markdown",
   "metadata": {},
   "source": [
    "## Hypothesentest"
   ]
  },
  {
   "cell_type": "markdown",
   "metadata": {},
   "source": [
    "Beim Hypothesentest wird geschaut ob ein Stichprobenwert in einem bestimmten Konfidenzintervall um einen theoretischen Wert liegt.\\\n",
    "**Vorgehen**\n",
    "1. $H_1, H_0$ aufstellen. Beispiel $H_0: p=0.5, H1: p!= 0.5$\n",
    "2. Signifikanzniveau $\\alpha$ angeben. (Konfidenzintervall um theoretischen Wert). $1-\\alpha$=Irrtumswahrscheinlichkeit\n",
    "3. Verteilung der Teststatistik bestimmen. Teststatistik=Berechneter Wert aus der Stichprobe denn man testen möchte -> Test aus Verteilung ableiten\n",
    "4. Mit dem Signifikanzniveau die Grenzen aus der Verteilung bestimmen\n",
    "5. Mittels Formel die Teststatistik für diese Verteilung berechnen\n",
    "6. Vergleichen der Teststatistik mit den berechneten Grenzen"
   ]
  },
  {
   "cell_type": "markdown",
   "metadata": {},
   "source": [
    "**Binomialtest**\\\n",
    "Der Binomialtest wird angewandt wenn zwei Ausgänge vorliegen. Beispiel: es wird gesagt 10 Prozent aller Autos sind unsicher. Binomialtest -> denn entweder sind sie unsicher oder sicher. Mit dem Ergebnis einer Stichprobe können wir testen ob die Hypothese p=0.1 stimmt.\n",
    "\n",
    "https://docs.scipy.org/doc/scipy/reference/generated/scipy.stats.binomtest.html#scipy.stats.binomtest"
   ]
  },
  {
   "cell_type": "code",
   "execution_count": 13,
   "metadata": {},
   "outputs": [
    {
     "name": "stdout",
     "output_type": "stream",
     "text": [
      "BinomTestResult(k=3, n=15, alternative='two-sided', proportion_estimate=0.2, pvalue=0.18406106910639106)\n"
     ]
    }
   ],
   "source": [
    "# Binomialtest binomtest(k=, n=, p=, alternative=) mit k=anzahl treffer, n=Stichprobengrösse, p=vorgegebene Wahrscheinlichkeit für k Treffer (H0),\n",
    "# alternative={‘two-sided’, ‘greater’, ‘less’} ob zweiseitig etc.\n",
    "# Resultat pvalue: bei less und einem Erwartungswert p die kumulierte Wahrscheinlichkeit bis zum Punkt k/n, bei greater die kumulierte Wahrscheinlichkeit \n",
    "# für grösser als k/n. Zum Entscheiden muss geschaut werden ob der p-Wert kleiner als die Irrtumswahrschinlickeit ist\n",
    "result = binomtest(k=, n=, p=, alternative='')\n",
    "print(result)"
   ]
  },
  {
   "cell_type": "markdown",
   "metadata": {},
   "source": [
    "**t-test**\\\n",
    "Der t-test prüft Hypothesen für Variablen mit t-verteilter Grundgesamtheit. Es existieren verschiedene.\n"
   ]
  },
  {
   "cell_type": "markdown",
   "metadata": {},
   "source": [
    "T-test für die Nullhypothese dass der Erwartungswert einer Stichprobe gleich dem Mittelwert der Grundgesamtheit ist."
   ]
  },
  {
   "cell_type": "code",
   "execution_count": 32,
   "metadata": {},
   "outputs": [
    {
     "name": "stdout",
     "output_type": "stream",
     "text": [
      "1.2649110640673518\n",
      "0.8623272256456349\n"
     ]
    }
   ],
   "source": [
    "# test für einen mittelwert: stats.ttest_1samp(a=, popmean=, alternative=) a ist ein Array mit den Daten, popmean ist der Mittelwert der Grundgesamtheit,\n",
    "# gegen den getestet wird, alternative ob zweiseitig oder nicht.\n",
    "data = []\n",
    "\n",
    "print('Teststatistik:', ((np.mean(data) - )/np.std(data)) * (len(data))**0.5)\n",
    "\n",
    "result = stats.ttest_1samp(a=data, popmean=, alternative=)\n",
    "print(result.pvalue)"
   ]
  },
  {
   "cell_type": "markdown",
   "metadata": {},
   "source": [
    "Testen ob die Erwartungswerte zweier Stichproben gleich sind (angenommen die Varianzen sind gleich).\n",
    "\n",
    "https://docs.scipy.org/doc/scipy/reference/generated/scipy.stats.ttest_ind.html"
   ]
  },
  {
   "cell_type": "code",
   "execution_count": null,
   "metadata": {},
   "outputs": [],
   "source": [
    "# mit a=erste Stichprobe, b=zweite Stichprobe\n",
    "result = stats.ttest_ind(a=, b=)\n",
    "print(result)"
   ]
  },
  {
   "cell_type": "markdown",
   "metadata": {},
   "source": [
    "**z-test**\\\n",
    "Nimmt eine Normalverteilung an"
   ]
  },
  {
   "cell_type": "code",
   "execution_count": null,
   "metadata": {},
   "outputs": [],
   "source": [
    "# x1=erste stichprobe, x2=zweite Stichprobe, value=mittelwert gegen den getestet wird, alternative='two-sided', 'larger', 'smaller', ddof=Freiheitsgrade (1 bei mittelwert)\n",
    "ztest ,pval = stests.ztest(x1=, x2=None, value=, alternative=, ddof=1)\n",
    "print('pvalue:', pval)\n",
    "print('teststatistik:', ztest)"
   ]
  }
 ],
 "metadata": {
  "interpreter": {
   "hash": "ba99de79bfa479594e8af1d716ac6141b59e9bd532579e0e9e0c8f4908c266db"
  },
  "kernelspec": {
   "display_name": "Python 3.9.7 64-bit ('venv_WER': venv)",
   "language": "python",
   "name": "python3"
  },
  "language_info": {
   "codemirror_mode": {
    "name": "ipython",
    "version": 3
   },
   "file_extension": ".py",
   "mimetype": "text/x-python",
   "name": "python",
   "nbconvert_exporter": "python",
   "pygments_lexer": "ipython3",
   "version": "3.8.3"
  },
  "orig_nbformat": 4
 },
 "nbformat": 4,
 "nbformat_minor": 2
}
